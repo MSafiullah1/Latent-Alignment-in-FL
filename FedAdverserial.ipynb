{
  "cells": [
    {
      "cell_type": "markdown",
      "metadata": {
        "id": "peuZHFXnPtA9"
      },
      "source": [
        "# Fed Averserial and Scaffold"
      ]
    },
    {
      "cell_type": "markdown",
      "metadata": {},
      "source": [
        "# Importing Libraries"
      ]
    },
    {
      "cell_type": "code",
      "execution_count": null,
      "metadata": {
        "colab": {
          "base_uri": "https://localhost:8080/"
        },
        "id": "IiW64fIiPT_6",
        "outputId": "6c7a7784-1178-42f7-fbc8-a4f35273c3a4"
      },
      "outputs": [
        {
          "name": "stdout",
          "output_type": "stream",
          "text": [
            "Using device: cuda\n"
          ]
        }
      ],
      "source": [
        "import os\n",
        "import torch\n",
        "import random\n",
        "import pickle\n",
        "import numpy as np\n",
        "import torch.nn as nn\n",
        "from tqdm import tqdm\n",
        "from copy import deepcopy\n",
        "import torch.optim as optim\n",
        "import matplotlib.pyplot as plt\n",
        "import torch.nn.functional as F\n",
        "from torchsummary import summary\n",
        "from collections import defaultdict\n",
        "from torchvision import datasets, transforms\n",
        "from torch.utils.data import Dataset, DataLoader, TensorDataset, random_split, Subset\n",
        "\n",
        "device = torch.device('cuda' if torch.cuda.is_available() else 'cpu')\n",
        "print(f\"Using device: {device}\")"
      ]
    },
    {
      "cell_type": "code",
      "execution_count": null,
      "metadata": {
        "id": "GGcZkZwjpSkZ"
      },
      "outputs": [],
      "source": [
        "seed = 42 # Set a fixed seed for reproducibility\n",
        "random.seed(seed) # Python's built-in random module\n",
        "np.random.seed(seed) # NumPy\n",
        "torch.manual_seed(seed) # PyTorch\n",
        "torch.cuda.manual_seed(seed) # If using CUDA\n",
        "torch.cuda.manual_seed_all(seed)  # for multi-GPU setups\n",
        "\n",
        "# # Ensure deterministic behavior (can slow down performance)\n",
        "# torch.backends.cudnn.deterministic = True\n",
        "# torch.backends.cudnn.benchmark = False"
      ]
    },
    {
      "cell_type": "markdown",
      "metadata": {
        "id": "Wpo6sk7CQM5f"
      },
      "source": [
        "# Loading Dataset"
      ]
    },
    {
      "cell_type": "code",
      "execution_count": null,
      "metadata": {
        "id": "F4_5fUyJQ7ly"
      },
      "outputs": [],
      "source": [
        "# Define transformation for CIFAR-10\n",
        "transform = transforms.Compose([\n",
        "    transforms.ToTensor(),\n",
        "    transforms.Resize((32, 32)),\n",
        "    # transforms.Normalize(mean=[0.4914, 0.4822, 0.4465], std=[0.247, 0.243, 0.261])\n",
        "])\n",
        "\n",
        "def load_cifar10(transform, root='./data', train=True):\n",
        "    return datasets.CIFAR10(root=root, train=train, download=True, transform=transform)\n",
        "\n",
        "def split_dataset(dataset, train_ratio=0.8): # Split dataset into training and testing subsets\n",
        "    dataset_size = len(dataset)\n",
        "    train_size = int(train_ratio * dataset_size)\n",
        "    test_size = dataset_size - train_size\n",
        "\n",
        "    train_indices = list(range(train_size))\n",
        "    test_indices = list(range(train_size, dataset_size))\n",
        "\n",
        "    train_dataset = Subset(dataset, train_indices)\n",
        "    test_dataset = Subset(dataset, test_indices)\n",
        "\n",
        "    return train_dataset, test_dataset\n",
        "\n",
        "def subset_to_numpy(dataset, subset): # Convert Subsets to numpy arrays\n",
        "    images = dataset.data[subset.indices]\n",
        "    labels = np.array(dataset.targets)[subset.indices]\n",
        "    return images, labels\n",
        "\n",
        "\n",
        "CLASSES = ('plane', 'car', 'bird', 'cat', 'deer', 'dog', 'frog', 'horse', 'ship', 'truck')"
      ]
    },
    {
      "cell_type": "code",
      "execution_count": null,
      "metadata": {
        "colab": {
          "base_uri": "https://localhost:8080/"
        },
        "id": "9WqsaTfvQFAN",
        "outputId": "08512d93-5cae-4e42-b83f-6b63ca4263a7"
      },
      "outputs": [
        {
          "name": "stdout",
          "output_type": "stream",
          "text": [
            "Downloading https://www.cs.toronto.edu/~kriz/cifar-10-python.tar.gz to ./data/cifar-10-python.tar.gz\n"
          ]
        },
        {
          "name": "stderr",
          "output_type": "stream",
          "text": [
            "100%|██████████| 170M/170M [00:18<00:00, 9.17MB/s]\n"
          ]
        },
        {
          "name": "stdout",
          "output_type": "stream",
          "text": [
            "Extracting ./data/cifar-10-python.tar.gz to ./data\n",
            "Dataset size: 50000\n",
            "Train images shape: (40000, 32, 32, 3), Train labels shape: (40000,)\n",
            "Test images shape: (10000, 32, 32, 3), Test labels shape: (10000,)\n"
          ]
        }
      ],
      "source": [
        "cifar10_dataset = load_cifar10(transform=transform)\n",
        "train_dataset, test_dataset = split_dataset(cifar10_dataset)\n",
        "\n",
        "train_images, train_labels = subset_to_numpy(cifar10_dataset, train_dataset)\n",
        "test_images, test_labels = subset_to_numpy(cifar10_dataset, test_dataset)\n",
        "\n",
        "print(f\"Dataset size: {len(cifar10_dataset)}\")\n",
        "print(f\"Train images shape: {train_images.shape}, Train labels shape: {train_labels.shape}\")\n",
        "print(f\"Test images shape: {test_images.shape}, Test labels shape: {test_labels.shape}\")\n",
        "\n",
        "# Optionally create data loaders\n",
        "# train_loader = DataLoader(train_dataset, batch_size=32, shuffle=True)\n",
        "# test_loader = DataLoader(test_dataset, batch_size=32, shuffle=False)"
      ]
    },
    {
      "cell_type": "code",
      "execution_count": null,
      "metadata": {
        "id": "6rKcQDUIJpux"
      },
      "outputs": [],
      "source": [
        "# Define transformation for MNIST\n",
        "mnist_transform = transforms.Compose([\n",
        "    transforms.ToTensor(),\n",
        "    transforms.Resize((28, 28)),  # MNIST images are already 28x28\n",
        "    # transforms.Normalize((0.5,), (0.5,))  # Uncomment for normalization\n",
        "])\n",
        "\n",
        "# Define function to load MNIST dataset\n",
        "def load_mnist(transform, root='./data', train=True):\n",
        "    return datasets.MNIST(root=root, train=train, download=True, transform=mnist_transform)\n",
        "\n",
        "# Define MNIST classes\n",
        "MNIST_CLASSES = tuple(str(i) for i in range(10))  # 0-9 digits"
      ]
    },
    {
      "cell_type": "code",
      "execution_count": null,
      "metadata": {
        "id": "5EWIRNzGJbjQ"
      },
      "outputs": [],
      "source": [
        "mnist_dataset = load_mnist(mnist_transform, train=True)\n",
        "mnist_train, mnist_test = split_dataset(mnist_dataset)\n",
        "\n",
        "# Convert training subset to numpy arrays\n",
        "train_images, train_labels = subset_to_numpy(mnist_dataset, mnist_train)\n",
        "test_images, test_labels = subset_to_numpy(mnist_dataset, mnist_test)"
      ]
    },
    {
      "cell_type": "code",
      "execution_count": null,
      "metadata": {
        "colab": {
          "base_uri": "https://localhost:8080/",
          "height": 452
        },
        "id": "TKaPM7_psViu",
        "outputId": "78678ed0-6771-4791-a3a9-1bd677ed8024"
      },
      "outputs": [
        {
          "data": {
            "image/png": "[encoded data removed]",
            "text/plain": [
              "<Figure size 640x480 with 1 Axes>"
            ]
          },
          "metadata": {},
          "output_type": "display_data"
        }
      ],
      "source": [
        "#display an image along with its label\n",
        "idx = 0\n",
        "image = test_images[idx]\n",
        "label = test_labels[idx]\n",
        "name_label = CLASSES[label]\n",
        "plt.imshow(image)\n",
        "plt.title(f\"Label: {name_label}\")\n",
        "plt.show()"
      ]
    },
    {
      "cell_type": "markdown",
      "metadata": {
        "id": "eLEerZQvQYa1"
      },
      "source": [
        "# Partitioning Dataset"
      ]
    },
    {
      "cell_type": "code",
      "execution_count": null,
      "metadata": {
        "id": "JgnPFJcBQTKA"
      },
      "outputs": [],
      "source": [
        "def partition_data(train_data, train_targets, test_data, test_targets, num_clients, dirichlet_alpha=0.5, batch_size=32, seed=42):\n",
        "    num_classes = len(np.unique(train_targets))\n",
        "    client_data_indices = defaultdict(list)\n",
        "    client_test_indices = defaultdict(list)\n",
        "\n",
        "    # Set the random seed for reproducibility\n",
        "    np.random.seed(seed)\n",
        "\n",
        "    # Partition Train Data and Capture Proportions\n",
        "    client_proportions = []\n",
        "    for c in range(num_classes):\n",
        "        class_indices = np.where(train_targets == c)[0]\n",
        "\n",
        "        # Set the seed again before generating proportions for this class\n",
        "        np.random.seed(seed + c)  # Adding `c` ensures unique seeds for each class\n",
        "        proportions = np.random.dirichlet([dirichlet_alpha] * num_clients)\n",
        "        client_proportions.append(proportions)\n",
        "\n",
        "        # Calculate split sizes and assign indices to each client\n",
        "        split_sizes = (np.cumsum(proportions) * len(class_indices)).astype(int)[:-1]\n",
        "        client_indices_split = np.split(class_indices, split_sizes)\n",
        "\n",
        "        for i, indices in enumerate(client_indices_split):\n",
        "            client_data_indices[i].extend(indices)\n",
        "\n",
        "    # Partition Test Data Using the Same Proportions as Train Data\n",
        "    for c, proportions in enumerate(client_proportions):\n",
        "        class_indices = np.where(test_targets == c)[0]\n",
        "\n",
        "        # Set the seed again before generating proportions for this class\n",
        "        np.random.seed(seed + c + 1000)  # Adding an offset ensures unique seeds for test data\n",
        "        split_sizes = (np.cumsum(proportions) * len(class_indices)).astype(int)[:-1]\n",
        "        client_indices_split = np.split(class_indices, split_sizes)\n",
        "\n",
        "        for i, indices in enumerate(client_indices_split):\n",
        "            client_test_indices[i].extend(indices)\n",
        "\n",
        "    # Create Federated Loaders\n",
        "    federated_train_loaders, federated_test_loaders = [], []\n",
        "    for i in range(num_clients):\n",
        "        # client_train_data = torch.tensor(train_data[client_data_indices[i]], dtype=torch.float32).unsqueeze(1)\n",
        "\n",
        "        if len(train_data.shape) == 3:  # Grayscale\n",
        "            client_train_data = torch.tensor(train_data[client_data_indices[i]], dtype=torch.float32).unsqueeze(1)\n",
        "        else:  # RGB\n",
        "            client_train_data = torch.tensor(train_data[client_data_indices[i]], dtype=torch.float32).permute(0, 3, 1, 2)  # Convert to [N, C, H, W]\n",
        "\n",
        "        client_train_targets = torch.tensor(train_targets[client_data_indices[i]], dtype=torch.long)\n",
        "        train_loader = DataLoader(TensorDataset(client_train_data, client_train_targets), batch_size=batch_size, shuffle=True, drop_last=False)\n",
        "        federated_train_loaders.append(train_loader)\n",
        "\n",
        "        # client_test_data = torch.tensor(test_data[client_test_indices[i]], dtype=torch.float32).unsqueeze(1)\n",
        "        if len(test_data.shape) == 3:  # Grayscale\n",
        "            client_test_data = torch.tensor(test_data[client_test_indices[i]], dtype=torch.float32).unsqueeze(1)\n",
        "        else:  # RGB\n",
        "            client_test_data = torch.tensor(test_data[client_test_indices[i]], dtype=torch.float32).permute(0, 3, 1, 2)  # Convert to [N, C, H, W]\n",
        "        client_test_targets = torch.tensor(test_targets[client_test_indices[i]], dtype=torch.long)\n",
        "        test_loader = DataLoader(TensorDataset(client_test_data, client_test_targets), batch_size=batch_size, shuffle=False, drop_last=False)\n",
        "        federated_test_loaders.append(test_loader)\n",
        "\n",
        "    # Create Centralized Loader by combining data from federated loaders\n",
        "    centralized_data, centralized_targets = [], []\n",
        "    for train_loader in federated_train_loaders:\n",
        "        for images, targets in train_loader:\n",
        "            centralized_data.append(images)\n",
        "            centralized_targets.append(targets)\n",
        "\n",
        "    centralized_data = torch.cat(centralized_data)\n",
        "    centralized_targets = torch.cat(centralized_targets)\n",
        "    train_centralized_loader = DataLoader(TensorDataset(centralized_data, centralized_targets), batch_size=batch_size, shuffle=False, drop_last=False)\n",
        "\n",
        "    centralized_test_data = torch.tensor(test_data, dtype=torch.float32).unsqueeze(1)\n",
        "    centralized_test_targets = torch.tensor(test_targets, dtype=torch.long)\n",
        "    test_centralized_loader = DataLoader(TensorDataset(centralized_test_data, centralized_test_targets), batch_size=batch_size, shuffle=False)\n",
        "\n",
        "    return federated_train_loaders, federated_test_loaders, train_centralized_loader, test_centralized_loader\n"
      ]
    },
    {
      "cell_type": "markdown",
      "metadata": {
        "id": "0tYO6dpuQiF2"
      },
      "source": [
        "#Setting up Model"
      ]
    },
    {
      "cell_type": "code",
      "execution_count": null,
      "metadata": {
        "colab": {
          "base_uri": "https://localhost:8080/"
        },
        "id": "8LgE6XEBQfPU",
        "outputId": "94f6545b-5542-4fef-d3b2-5a4dcfe568ea"
      },
      "outputs": [
        {
          "name": "stdout",
          "output_type": "stream",
          "text": [
            "----------------------------------------------------------------\n",
            "        Layer (type)               Output Shape         Param #\n",
            "================================================================\n",
            "            Conv2d-1           [-1, 64, 32, 32]           1,792\n",
            "              ReLU-2           [-1, 64, 32, 32]               0\n",
            "            Conv2d-3           [-1, 64, 32, 32]          36,928\n",
            "              ReLU-4           [-1, 64, 32, 32]               0\n",
            "         MaxPool2d-5           [-1, 64, 16, 16]               0\n",
            "            Conv2d-6          [-1, 128, 16, 16]          73,856\n",
            "              ReLU-7          [-1, 128, 16, 16]               0\n",
            "            Conv2d-8          [-1, 128, 16, 16]         147,584\n",
            "              ReLU-9          [-1, 128, 16, 16]               0\n",
            "        MaxPool2d-10            [-1, 128, 8, 8]               0\n",
            "           Conv2d-11            [-1, 256, 8, 8]         295,168\n",
            "             ReLU-12            [-1, 256, 8, 8]               0\n",
            "           Conv2d-13            [-1, 256, 8, 8]         590,080\n",
            "             ReLU-14            [-1, 256, 8, 8]               0\n",
            "        MaxPool2d-15            [-1, 256, 4, 4]               0\n",
            "          Flatten-16                 [-1, 4096]               0\n",
            "           Linear-17                   [-1, 10]          40,970\n",
            "================================================================\n",
            "Total params: 1,186,378\n",
            "Trainable params: 1,186,378\n",
            "Non-trainable params: 0\n",
            "----------------------------------------------------------------\n",
            "Input size (MB): 0.01\n",
            "Forward/backward pass size (MB): 3.75\n",
            "Params size (MB): 4.53\n",
            "Estimated Total Size (MB): 8.29\n",
            "----------------------------------------------------------------\n"
          ]
        }
      ],
      "source": [
        "class SimpleCNN(nn.Module): #this is same as TINY VGG model\n",
        "    def __init__(self, filters=64, num_classes=10):\n",
        "        super(SimpleCNN, self).__init__()\n",
        "\n",
        "        # Block 1\n",
        "        self.conv_1_1 = nn.Conv2d(3, filters, kernel_size=3, padding=1)  # Input: 3x32x32 -> Output: filters x 32 x 32\n",
        "        self.relu_1_1 = nn.ReLU()\n",
        "        self.conv_1_2 = nn.Conv2d(filters, filters, kernel_size=3, padding=1)  # Output: filters x 32 x 32\n",
        "        self.relu_1_2 = nn.ReLU()\n",
        "        self.max_pool_1 = nn.MaxPool2d(kernel_size=2, stride=2)  # Output: filters x 16 x 16\n",
        "\n",
        "        # Block 2\n",
        "        self.conv_2_1 = nn.Conv2d(filters, filters * 2, kernel_size=3, padding=1)  # Output: filters*2 x 16 x 16\n",
        "        self.relu_2_1 = nn.ReLU()\n",
        "        self.conv_2_2 = nn.Conv2d(filters * 2, filters * 2, kernel_size=3, padding=1)  # Output: filters*2 x 16 x 16\n",
        "        self.relu_2_2 = nn.ReLU()\n",
        "        self.max_pool_2 = nn.MaxPool2d(kernel_size=2, stride=2)  # Output: filters*2 x 8 x 8\n",
        "\n",
        "        # Block 3\n",
        "        self.conv_3_1 = nn.Conv2d(filters * 2, filters * 4, kernel_size=3, padding=1)  # Output: filters*4 x 8 x 8\n",
        "        self.relu_3_1 = nn.ReLU()\n",
        "        self.conv_3_2 = nn.Conv2d(filters * 4, filters * 4, kernel_size=3, padding=1)  # Output: filters*4 x 8 x 8\n",
        "        self.relu_3_2 = nn.ReLU()\n",
        "        self.max_pool_3 = nn.MaxPool2d(kernel_size=2, stride=2)  # Output: filters*4 x 4 x 4\n",
        "\n",
        "        # Fully Connected Layer\n",
        "        self.flatten = nn.Flatten()\n",
        "        self.fc = nn.Linear(filters * 4 * 4 * 4, num_classes)  # Output: 10 classes (CIFAR-10)\n",
        "        # self.fc = nn.Linear(filters * 36, num_classes)  # Output: 10 classes (MNIST)\n",
        "\n",
        "    def forward(self, x):\n",
        "        # Block 1\n",
        "        x = self.relu_1_1(self.conv_1_1(x))\n",
        "        x = self.relu_1_2(self.conv_1_2(x))\n",
        "        x = self.max_pool_1(x)\n",
        "\n",
        "        # Block 2\n",
        "        x = self.relu_2_1(self.conv_2_1(x))\n",
        "        x = self.relu_2_2(self.conv_2_2(x))\n",
        "        x = self.max_pool_2(x)\n",
        "\n",
        "        # Block 3\n",
        "        x = self.relu_3_1(self.conv_3_1(x))\n",
        "        x = self.relu_3_2(self.conv_3_2(x))\n",
        "        x = self.max_pool_3(x)\n",
        "\n",
        "        # Flatten and Fully Connected Layer\n",
        "        x = self.flatten(x)\n",
        "        x = self.fc(x)\n",
        "        return x\n",
        "\n",
        "    def get_latents(self, x):\n",
        "        # Extract feature latents before the final fully connected layer\n",
        "        x = self.relu_1_1(self.conv_1_1(x))\n",
        "        x = self.relu_1_2(self.conv_1_2(x))\n",
        "        x = self.max_pool_1(x)\n",
        "\n",
        "        x = self.relu_2_1(self.conv_2_1(x))\n",
        "        x = self.relu_2_2(self.conv_2_2(x))\n",
        "        x = self.max_pool_2(x)\n",
        "\n",
        "        x = self.relu_3_1(self.conv_3_1(x))\n",
        "        x = self.relu_3_2(self.conv_3_2(x))\n",
        "        x = self.max_pool_3(x)\n",
        "\n",
        "        x = self.flatten(x)\n",
        "        latents = x  # Latent features before the final output layer\n",
        "        # print(f\"Latent Features Shape: {latents.shape}\")\n",
        "        return latents\n",
        "\n",
        "# Define Discriminator\n",
        "class Discriminator(nn.Module):\n",
        "    def __init__(self, input_size=4096, num_classes=1):\n",
        "        super(Discriminator, self).__init__()\n",
        "        self.layer = nn.Sequential(\n",
        "            nn.Linear(input_size, 256),\n",
        "            nn.LeakyReLU(0.2),\n",
        "            nn.Linear(256, num_classes),\n",
        "            nn.Sigmoid(),\n",
        "        )\n",
        "\n",
        "    def forward(self, h):\n",
        "        y = self.layer(h)\n",
        "        return y\n",
        "\n",
        "\n",
        "model = SimpleCNN().to(device)\n",
        "summary(model, (3, 32, 32))  # Pass input shape (channels, height, width) instead of the tensor"
      ]
    },
    {
      "cell_type": "markdown",
      "metadata": {
        "id": "elmDtdt5Q2VA"
      },
      "source": [
        "# FED AVERAGE"
      ]
    },
    {
      "cell_type": "code",
      "execution_count": null,
      "metadata": {
        "id": "z090VRN1QmKp"
      },
      "outputs": [],
      "source": [
        "def evaluate_model(global_model, test_loaders):\n",
        "    global_model.eval()\n",
        "    device = torch.device(\"cuda\" if torch.cuda.is_available() else \"cpu\")\n",
        "    global_model.to(device)\n",
        "\n",
        "    client_accuracies = []\n",
        "    total_correct, total_samples = 0, 0\n",
        "\n",
        "    with torch.no_grad():\n",
        "        for client_id, test_loader in enumerate(test_loaders):\n",
        "            client_correct, client_total = 0, 0\n",
        "            print(f\"\\nEvaluating Client {client_id}\")\n",
        "\n",
        "            for images, labels in test_loader:\n",
        "                images, labels = images.to(device), labels.to(device)\n",
        "                outputs = global_model(images)\n",
        "                _, predicted = torch.max(outputs, 1)\n",
        "\n",
        "                client_correct += (predicted == labels).sum().item()\n",
        "                client_total += labels.size(0)\n",
        "\n",
        "            client_accuracy = (client_correct / client_total) * 100\n",
        "            client_accuracies.append(client_accuracy)\n",
        "\n",
        "            print(f\"Client {client_id} Accuracy: {client_accuracy:.2f}%\")\n",
        "\n",
        "            total_correct += client_correct\n",
        "            total_samples += client_total\n",
        "\n",
        "    total_accuracy = (total_correct / total_samples) * 100\n",
        "    print(f\"Total Accuracy: {total_accuracy:.2f}%\")\n",
        "    return client_accuracies, total_accuracy"
      ]
    },
    {
      "cell_type": "code",
      "execution_count": null,
      "metadata": {
        "id": "f5-BOECgdnp4"
      },
      "outputs": [],
      "source": [
        "# Server-side Federated Averaging\n",
        "def fedavg_training(adverserial, global_model, train_loaders, num_clients, rounds, epochs, lr, test_loaders):\n",
        "    round_avg_updates = []\n",
        "    round_accuracies = []\n",
        "    discriminators = {}\n",
        "    global_model = global_model.to(device)\n",
        "\n",
        "    for r in tqdm(range(rounds), desc=\"Communication Rounds\", leave=True):\n",
        "        client_updates = []\n",
        "\n",
        "        # Distribute model and collect client updates\n",
        "        for i in tqdm(range(num_clients), desc=f\"Clients Training (Round {r+1})\", leave=False):\n",
        "\n",
        "            if adverserial:\n",
        "              client_id = i\n",
        "              update = local_train_adversarial(global_model, train_loaders[i], epochs, lr, client_id, discriminators)\n",
        "            else:\n",
        "              update = local_train(global_model, train_loaders[i], epochs, lr)\n",
        "\n",
        "            client_updates.append(update)\n",
        "\n",
        "        # Average updates\n",
        "        avg_update = {name: sum(client_update[name] for client_update in client_updates) / num_clients\n",
        "                      for name in global_model.state_dict().keys()}\n",
        "\n",
        "        # Apply averaged updates to global model\n",
        "        for name, param in global_model.state_dict().items():\n",
        "            param.add_(avg_update[name])  # Update the global model in-place\n",
        "\n",
        "        round_avg_updates.append(avg_update)\n",
        "\n",
        "        # Evaluate the global model\n",
        "        global_model.eval()\n",
        "        correct, total = 0, 0\n",
        "        with torch.no_grad():\n",
        "            for test_loader in test_loaders:\n",
        "                for data, labels in test_loader:\n",
        "                    data, labels = data.to(device), labels.to(device)\n",
        "                    outputs = global_model(data)\n",
        "                    _, predicted = outputs.max(1)\n",
        "                    correct += (predicted == labels).sum().item()\n",
        "                    total += labels.size(0)\n",
        "\n",
        "        accuracy = correct / total\n",
        "        round_accuracies.append(accuracy)\n",
        "        tqdm.write(f\"Round {r+1} Accuracy: {accuracy:.4f}\")\n",
        "\n",
        "    return round_avg_updates, round_accuracies\n",
        "\n",
        "\n",
        "# Client-side local training\n",
        "def local_train(model, train_loader, epochs, lr):\n",
        "    # Copy the global model to avoid modifying it directly\n",
        "    local_model = deepcopy(model)\n",
        "    local_model.load_state_dict(model.state_dict())\n",
        "\n",
        "    local_model = local_model.to(device)\n",
        "    model = model.to(device)\n",
        "\n",
        "    local_model.train()\n",
        "\n",
        "    criterion = nn.CrossEntropyLoss()\n",
        "    optimizer = optim.Adam(local_model.parameters(), lr=lr)\n",
        "\n",
        "    # for epoch in tqdm(range(epochs), desc=\"Local Training\", leave=False):\n",
        "    for epoch in range(epochs):\n",
        "        for data, labels in train_loader:\n",
        "            data, labels  = data.to(device), labels.to(device)\n",
        "            optimizer.zero_grad()\n",
        "            outputs = local_model(data)\n",
        "            loss = criterion(outputs, labels)\n",
        "            loss.backward()\n",
        "            optimizer.step()\n",
        "\n",
        "    # Compute updates (difference between global and local weights)\n",
        "    overall_update = {name: param.data - model.state_dict()[name]\n",
        "                      for name, param in local_model.state_dict().items()}\n",
        "\n",
        "    return overall_update\n",
        "\n",
        "def local_train_adversarial(model, train_loader, epochs, lr, client_id, discriminators):\n",
        "    \"\"\"\n",
        "    Train a local model with adversarial feature matching.\n",
        "\n",
        "    Args:\n",
        "        model (nn.Module): The global model to initialize local training.\n",
        "        train_loader (DataLoader): DataLoader for the client's training data.\n",
        "        epochs (int): Number of training epochs.\n",
        "        lr (float): Learning rate.\n",
        "        client_id (int): Unique identifier for the client.\n",
        "        discriminators (dict): Dictionary of discriminators for each client.\n",
        "\n",
        "    Returns:\n",
        "        dict: Dictionary of model updates (local model - global model).\n",
        "    \"\"\"\n",
        "    # Copy the global model to avoid modifying it directly\n",
        "    local_model = deepcopy(model)\n",
        "    local_model.load_state_dict(model.state_dict())\n",
        "\n",
        "    local_model = local_model.to(device)\n",
        "    model = model.to(device)\n",
        "\n",
        "    local_model.train()\n",
        "    model.eval()  # Ensure the global model remains in evaluation mode\n",
        "\n",
        "    criterion = nn.CrossEntropyLoss()\n",
        "    adv_criterion = nn.MSELoss()  # Loss for adversarial feature matching\n",
        "\n",
        "    # Retrieve the discriminator for this client\n",
        "    if client_id not in discriminators:\n",
        "        # Initialize a new discriminator for this client if not already present\n",
        "        discriminators[client_id] = Discriminator().to(device)  # Adjust input_size to match latent dimensions\n",
        "\n",
        "    discriminator = discriminators[client_id]\n",
        "    d_optimizer = optim.Adam(discriminator.parameters(), lr=lr)\n",
        "    g_optimizer = optim.Adam(local_model.parameters(), lr=lr)\n",
        "\n",
        "    for epoch in range(epochs):\n",
        "        for data, labels in train_loader:\n",
        "            data, labels = data.to(device), labels.to(device)\n",
        "\n",
        "            # Extract latents from both models\n",
        "            global_latents = model.get_latents(data).detach()  # Detach to prevent gradient flow\n",
        "            local_latents = local_model.get_latents(data)\n",
        "\n",
        "            # Train Discriminator\n",
        "            discriminator.train()\n",
        "            real_preds = discriminator(global_latents)  # Real latents (from the global model)\n",
        "            fake_preds = discriminator(local_latents.detach())  # Fake latents (from the local model)\n",
        "            real_labels = torch.ones_like(real_preds).to(device)\n",
        "            fake_labels = torch.zeros_like(fake_preds).to(device)\n",
        "\n",
        "            d_loss_real = nn.BCELoss()(real_preds, real_labels)\n",
        "            d_loss_fake = nn.BCELoss()(fake_preds, fake_labels)\n",
        "            d_loss = d_loss_real + d_loss_fake\n",
        "\n",
        "            d_optimizer.zero_grad()\n",
        "            d_loss.backward()\n",
        "            d_optimizer.step()\n",
        "\n",
        "            # Train Local Model (Generator)\n",
        "            discriminator.eval()\n",
        "            fake_preds = discriminator(local_latents)\n",
        "            classification_loss = criterion(local_model(data), labels)\n",
        "            adversarial_loss = -torch.mean(fake_preds)  # Generator tries to fool the discriminator\n",
        "            feature_matching_loss = adv_criterion(local_latents, global_latents)\n",
        "\n",
        "            total_loss = classification_loss + 0.1 * feature_matching_loss + 0.1 * adversarial_loss  # Adjust weights as needed\n",
        "\n",
        "            g_optimizer.zero_grad()\n",
        "            total_loss.backward()\n",
        "            g_optimizer.step()\n",
        "\n",
        "    # Compute updates (difference between global and local weights)\n",
        "    overall_update = {name: param.data - model.state_dict()[name]\n",
        "                      for name, param in local_model.state_dict().items()}\n",
        "\n",
        "    return overall_update\n"
      ]
    },
    {
      "cell_type": "code",
      "execution_count": null,
      "metadata": {
        "id": "ntW3WfZrkD5D"
      },
      "outputs": [],
      "source": [
        "# HyperParameters\n",
        "num_clients = 5\n",
        "batch_size = 128\n",
        "rounds = 15\n",
        "epochs = 5\n",
        "lr = 0.001\n",
        "dirichlet_alphas = [0.5]\n",
        "accuracies_per_alpha = {\n",
        "    alpha: [] for alpha in dirichlet_alphas\n",
        "}\n",
        "\n",
        "\n",
        "def run_fedavg(alpha):\n",
        "    round_accuracies_fedavg, round_accuracies_fedavg_adv = 0, 0\n",
        "    train_loaders, test_loaders,_,_ = partition_data(train_images, train_labels, test_images, test_labels, num_clients, alpha, batch_size)\n",
        "\n",
        "    Adverserial = False\n",
        "    global_model_fedavg = SimpleCNN()\n",
        "    _, round_accuracies_fedavg = fedavg_training(Adverserial,\n",
        "                                          global_model_fedavg,\n",
        "                                          train_loaders,\n",
        "                                          num_clients,\n",
        "                                          rounds=rounds,\n",
        "                                          epochs=epochs,\n",
        "                                          lr=lr,\n",
        "                                          test_loaders=test_loaders)\n",
        "\n",
        "    Adverserial = True\n",
        "    global_model_fedavg_adv = SimpleCNN()\n",
        "    _, round_accuracies_fedavg_adv = fedavg_training(Adverserial,\n",
        "                                          global_model_fedavg_adv,\n",
        "                                          train_loaders,\n",
        "                                          num_clients,\n",
        "                                          rounds=rounds,\n",
        "                                          epochs=epochs,\n",
        "                                          lr=lr,\n",
        "                                          test_loaders=test_loaders)\n",
        "\n",
        "    return round_accuracies_fedavg ,round_accuracies_fedavg_adv"
      ]
    },
    {
      "cell_type": "code",
      "execution_count": null,
      "metadata": {
        "colab": {
          "base_uri": "https://localhost:8080/"
        },
        "id": "GtScdDEvyDQG",
        "outputId": "ee920244-d6c4-47d9-9c4d-3ad8917ea92a"
      },
      "outputs": [
        {
          "name": "stderr",
          "output_type": "stream",
          "text": [
            "Communication Rounds:   0%|          | 0/15 [00:00<?, ?it/s]\n",
            "Clients Training (Round 1):   0%|          | 0/5 [00:00<?, ?it/s]\u001b[A\n",
            "Clients Training (Round 1):  20%|██        | 1/5 [00:04<00:18,  4.71s/it]\u001b[A\n",
            "Clients Training (Round 1):  40%|████      | 2/5 [00:11<00:18,  6.15s/it]\u001b[A\n",
            "Clients Training (Round 1):  60%|██████    | 3/5 [00:15<00:10,  5.19s/it]\u001b[A\n",
            "Clients Training (Round 1):  80%|████████  | 4/5 [00:24<00:06,  6.42s/it]\u001b[A\n",
            "Clients Training (Round 1): 100%|██████████| 5/5 [00:34<00:00,  7.98s/it]\u001b[A\n",
            "Communication Rounds:   7%|▋         | 1/15 [00:35<08:20, 35.72s/it]"
          ]
        },
        {
          "name": "stdout",
          "output_type": "stream",
          "text": [
            "Round 1 Accuracy: 0.1016\n"
          ]
        },
        {
          "name": "stderr",
          "output_type": "stream",
          "text": [
            "\n",
            "Clients Training (Round 2):   0%|          | 0/5 [00:00<?, ?it/s]\u001b[A\n",
            "Clients Training (Round 2):  20%|██        | 1/5 [00:04<00:18,  4.69s/it]\u001b[A\n",
            "Clients Training (Round 2):  40%|████      | 2/5 [00:11<00:18,  6.14s/it]\u001b[A\n",
            "Clients Training (Round 2):  60%|██████    | 3/5 [00:15<00:10,  5.16s/it]\u001b[A\n",
            "Clients Training (Round 2):  80%|████████  | 4/5 [00:23<00:06,  6.31s/it]\u001b[A\n",
            "Clients Training (Round 2): 100%|██████████| 5/5 [00:34<00:00,  7.82s/it]\u001b[A\n",
            "Communication Rounds:  13%|█▎        | 2/15 [01:10<07:40, 35.42s/it]"
          ]
        },
        {
          "name": "stdout",
          "output_type": "stream",
          "text": [
            "Round 2 Accuracy: 0.2805\n"
          ]
        },
        {
          "name": "stderr",
          "output_type": "stream",
          "text": [
            "\n",
            "Clients Training (Round 3):   0%|          | 0/5 [00:00<?, ?it/s]\u001b[A\n",
            "Clients Training (Round 3):  20%|██        | 1/5 [00:04<00:18,  4.66s/it]\u001b[A\n",
            "Clients Training (Round 3):  40%|████      | 2/5 [00:11<00:18,  6.11s/it]\u001b[A\n",
            "Clients Training (Round 3):  60%|██████    | 3/5 [00:15<00:10,  5.15s/it]\u001b[A\n",
            "Clients Training (Round 3):  80%|████████  | 4/5 [00:23<00:06,  6.32s/it]\u001b[A\n",
            "Clients Training (Round 3): 100%|██████████| 5/5 [00:34<00:00,  7.86s/it]\u001b[A\n",
            "Communication Rounds:  20%|██        | 3/15 [01:46<07:03, 35.33s/it]"
          ]
        },
        {
          "name": "stdout",
          "output_type": "stream",
          "text": [
            "Round 3 Accuracy: 0.5640\n"
          ]
        },
        {
          "name": "stderr",
          "output_type": "stream",
          "text": [
            "\n",
            "Clients Training (Round 4):   0%|          | 0/5 [00:00<?, ?it/s]\u001b[A\n",
            "Clients Training (Round 4):  20%|██        | 1/5 [00:04<00:18,  4.71s/it]\u001b[A\n",
            "Clients Training (Round 4):  40%|████      | 2/5 [00:11<00:18,  6.16s/it]\u001b[A\n",
            "Clients Training (Round 4):  60%|██████    | 3/5 [00:15<00:10,  5.19s/it]\u001b[A\n",
            "Clients Training (Round 4):  80%|████████  | 4/5 [00:24<00:06,  6.36s/it]\u001b[A\n",
            "Clients Training (Round 4): 100%|██████████| 5/5 [00:34<00:00,  7.88s/it]\u001b[A\n",
            "Communication Rounds:  27%|██▋       | 4/15 [02:21<06:28, 35.35s/it]"
          ]
        },
        {
          "name": "stdout",
          "output_type": "stream",
          "text": [
            "Round 4 Accuracy: 0.6546\n"
          ]
        },
        {
          "name": "stderr",
          "output_type": "stream",
          "text": [
            "\n",
            "Clients Training (Round 5):   0%|          | 0/5 [00:00<?, ?it/s]\u001b[A\n",
            "Clients Training (Round 5):  20%|██        | 1/5 [00:04<00:18,  4.69s/it]\u001b[A\n",
            "Clients Training (Round 5):  40%|████      | 2/5 [00:11<00:18,  6.13s/it]\u001b[A\n",
            "Clients Training (Round 5):  60%|██████    | 3/5 [00:15<00:10,  5.17s/it]\u001b[A\n",
            "Clients Training (Round 5):  80%|████████  | 4/5 [00:23<00:06,  6.33s/it]\u001b[A\n",
            "Clients Training (Round 5): 100%|██████████| 5/5 [00:34<00:00,  7.86s/it]\u001b[A\n",
            "Communication Rounds:  33%|███▎      | 5/15 [02:56<05:53, 35.32s/it]"
          ]
        },
        {
          "name": "stdout",
          "output_type": "stream",
          "text": [
            "Round 5 Accuracy: 0.6661\n"
          ]
        },
        {
          "name": "stderr",
          "output_type": "stream",
          "text": [
            "\n",
            "Clients Training (Round 6):   0%|          | 0/5 [00:00<?, ?it/s]\u001b[A\n",
            "Clients Training (Round 6):  20%|██        | 1/5 [00:04<00:18,  4.69s/it]\u001b[A\n",
            "Clients Training (Round 6):  40%|████      | 2/5 [00:11<00:18,  6.14s/it]\u001b[A\n",
            "Clients Training (Round 6):  60%|██████    | 3/5 [00:15<00:10,  5.18s/it]\u001b[A\n",
            "Clients Training (Round 6):  80%|████████  | 4/5 [00:24<00:06,  6.34s/it]\u001b[A\n",
            "Clients Training (Round 6): 100%|██████████| 5/5 [00:34<00:00,  7.87s/it]\u001b[A\n",
            "Communication Rounds:  40%|████      | 6/15 [03:32<05:17, 35.32s/it]"
          ]
        },
        {
          "name": "stdout",
          "output_type": "stream",
          "text": [
            "Round 6 Accuracy: 0.6809\n"
          ]
        },
        {
          "name": "stderr",
          "output_type": "stream",
          "text": [
            "\n",
            "Clients Training (Round 7):   0%|          | 0/5 [00:00<?, ?it/s]\u001b[A\n",
            "Clients Training (Round 7):  20%|██        | 1/5 [00:04<00:18,  4.69s/it]\u001b[A\n",
            "Clients Training (Round 7):  40%|████      | 2/5 [00:11<00:18,  6.14s/it]\u001b[A\n",
            "Clients Training (Round 7):  60%|██████    | 3/5 [00:15<00:10,  5.18s/it]\u001b[A\n",
            "Clients Training (Round 7):  80%|████████  | 4/5 [00:24<00:06,  6.34s/it]\u001b[A\n",
            "Clients Training (Round 7): 100%|██████████| 5/5 [00:34<00:00,  7.87s/it]\u001b[A\n",
            "Communication Rounds:  47%|████▋     | 7/15 [04:07<04:42, 35.32s/it]"
          ]
        },
        {
          "name": "stdout",
          "output_type": "stream",
          "text": [
            "Round 7 Accuracy: 0.6878\n"
          ]
        },
        {
          "name": "stderr",
          "output_type": "stream",
          "text": [
            "\n",
            "Clients Training (Round 8):   0%|          | 0/5 [00:00<?, ?it/s]\u001b[A\n",
            "Clients Training (Round 8):  20%|██        | 1/5 [00:04<00:18,  4.68s/it]\u001b[A\n",
            "Clients Training (Round 8):  40%|████      | 2/5 [00:11<00:18,  6.13s/it]\u001b[A\n",
            "Clients Training (Round 8):  60%|██████    | 3/5 [00:15<00:10,  5.17s/it]\u001b[A\n",
            "Clients Training (Round 8):  80%|████████  | 4/5 [00:23<00:06,  6.33s/it]\u001b[A\n",
            "Clients Training (Round 8): 100%|██████████| 5/5 [00:34<00:00,  7.86s/it]\u001b[A\n",
            "Communication Rounds:  53%|█████▎    | 8/15 [04:42<04:07, 35.30s/it]"
          ]
        },
        {
          "name": "stdout",
          "output_type": "stream",
          "text": [
            "Round 8 Accuracy: 0.6888\n"
          ]
        },
        {
          "name": "stderr",
          "output_type": "stream",
          "text": [
            "\n",
            "Clients Training (Round 9):   0%|          | 0/5 [00:00<?, ?it/s]\u001b[A\n",
            "Clients Training (Round 9):  20%|██        | 1/5 [00:04<00:18,  4.68s/it]\u001b[A\n",
            "Clients Training (Round 9):  40%|████      | 2/5 [00:11<00:18,  6.12s/it]\u001b[A\n",
            "Clients Training (Round 9):  60%|██████    | 3/5 [00:15<00:10,  5.16s/it]\u001b[A\n",
            "Clients Training (Round 9):  80%|████████  | 4/5 [00:23<00:06,  6.33s/it]\u001b[A\n",
            "Clients Training (Round 9): 100%|██████████| 5/5 [00:34<00:00,  7.85s/it]\u001b[A\n",
            "Communication Rounds:  60%|██████    | 9/15 [05:17<03:31, 35.27s/it]"
          ]
        },
        {
          "name": "stdout",
          "output_type": "stream",
          "text": [
            "Round 9 Accuracy: 0.6908\n"
          ]
        },
        {
          "name": "stderr",
          "output_type": "stream",
          "text": [
            "\n",
            "Clients Training (Round 10):   0%|          | 0/5 [00:00<?, ?it/s]\u001b[A\n",
            "Clients Training (Round 10):  20%|██        | 1/5 [00:04<00:18,  4.68s/it]\u001b[A\n",
            "Clients Training (Round 10):  40%|████      | 2/5 [00:11<00:18,  6.13s/it]\u001b[A\n",
            "Clients Training (Round 10):  60%|██████    | 3/5 [00:15<00:10,  5.16s/it]\u001b[A\n",
            "Clients Training (Round 10):  80%|████████  | 4/5 [00:23<00:06,  6.33s/it]\u001b[A\n",
            "Clients Training (Round 10): 100%|██████████| 5/5 [00:34<00:00,  7.86s/it]\u001b[A\n",
            "Communication Rounds:  67%|██████▋   | 10/15 [05:53<02:56, 35.28s/it]"
          ]
        },
        {
          "name": "stdout",
          "output_type": "stream",
          "text": [
            "Round 10 Accuracy: 0.6850\n"
          ]
        },
        {
          "name": "stderr",
          "output_type": "stream",
          "text": [
            "\n",
            "Clients Training (Round 11):   0%|          | 0/5 [00:00<?, ?it/s]\u001b[A\n",
            "Clients Training (Round 11):  20%|██        | 1/5 [00:04<00:18,  4.68s/it]\u001b[A\n",
            "Clients Training (Round 11):  40%|████      | 2/5 [00:11<00:18,  6.13s/it]\u001b[A\n",
            "Clients Training (Round 11):  60%|██████    | 3/5 [00:15<00:10,  5.16s/it]\u001b[A\n",
            "Clients Training (Round 11):  80%|████████  | 4/5 [00:23<00:06,  6.33s/it]\u001b[A\n",
            "Clients Training (Round 11): 100%|██████████| 5/5 [00:34<00:00,  7.85s/it]\u001b[A\n",
            "Communication Rounds:  73%|███████▎  | 11/15 [06:28<02:21, 35.28s/it]"
          ]
        },
        {
          "name": "stdout",
          "output_type": "stream",
          "text": [
            "Round 11 Accuracy: 0.6916\n"
          ]
        },
        {
          "name": "stderr",
          "output_type": "stream",
          "text": [
            "\n",
            "Clients Training (Round 12):   0%|          | 0/5 [00:00<?, ?it/s]\u001b[A\n",
            "Clients Training (Round 12):  20%|██        | 1/5 [00:04<00:18,  4.68s/it]\u001b[A\n",
            "Clients Training (Round 12):  40%|████      | 2/5 [00:11<00:18,  6.13s/it]\u001b[A\n",
            "Clients Training (Round 12):  60%|██████    | 3/5 [00:15<00:10,  5.17s/it]\u001b[A\n",
            "Clients Training (Round 12):  80%|████████  | 4/5 [00:23<00:06,  6.34s/it]\u001b[A\n",
            "Clients Training (Round 12): 100%|██████████| 5/5 [00:34<00:00,  7.86s/it]\u001b[A\n",
            "Communication Rounds:  80%|████████  | 12/15 [07:03<01:45, 35.28s/it]"
          ]
        },
        {
          "name": "stdout",
          "output_type": "stream",
          "text": [
            "Round 12 Accuracy: 0.6895\n"
          ]
        },
        {
          "name": "stderr",
          "output_type": "stream",
          "text": [
            "\n",
            "Clients Training (Round 13):   0%|          | 0/5 [00:00<?, ?it/s]\u001b[A\n",
            "Clients Training (Round 13):  20%|██        | 1/5 [00:04<00:18,  4.68s/it]\u001b[A\n",
            "Clients Training (Round 13):  40%|████      | 2/5 [00:11<00:18,  6.13s/it]\u001b[A\n",
            "Clients Training (Round 13):  60%|██████    | 3/5 [00:15<00:10,  5.17s/it]\u001b[A\n",
            "Clients Training (Round 13):  80%|████████  | 4/5 [00:23<00:06,  6.33s/it]\u001b[A\n",
            "Clients Training (Round 13): 100%|██████████| 5/5 [00:34<00:00,  7.86s/it]\u001b[A\n",
            "Communication Rounds:  87%|████████▋ | 13/15 [07:38<01:10, 35.27s/it]"
          ]
        },
        {
          "name": "stdout",
          "output_type": "stream",
          "text": [
            "Round 13 Accuracy: 0.6910\n"
          ]
        },
        {
          "name": "stderr",
          "output_type": "stream",
          "text": [
            "\n",
            "Clients Training (Round 14):   0%|          | 0/5 [00:00<?, ?it/s]\u001b[A\n",
            "Clients Training (Round 14):  20%|██        | 1/5 [00:04<00:18,  4.68s/it]\u001b[A\n",
            "Clients Training (Round 14):  40%|████      | 2/5 [00:11<00:18,  6.12s/it]\u001b[A\n",
            "Clients Training (Round 14):  60%|██████    | 3/5 [00:15<00:10,  5.16s/it]\u001b[A\n",
            "Clients Training (Round 14):  80%|████████  | 4/5 [00:23<00:06,  6.33s/it]\u001b[A\n",
            "Clients Training (Round 14): 100%|██████████| 5/5 [00:34<00:00,  7.85s/it]\u001b[A\n",
            "Communication Rounds:  93%|█████████▎| 14/15 [08:14<00:35, 35.25s/it]"
          ]
        },
        {
          "name": "stdout",
          "output_type": "stream",
          "text": [
            "Round 14 Accuracy: 0.6947\n"
          ]
        },
        {
          "name": "stderr",
          "output_type": "stream",
          "text": [
            "\n",
            "Clients Training (Round 15):   0%|          | 0/5 [00:00<?, ?it/s]\u001b[A\n",
            "Clients Training (Round 15):  20%|██        | 1/5 [00:04<00:18,  4.68s/it]\u001b[A\n",
            "Clients Training (Round 15):  40%|████      | 2/5 [00:11<00:18,  6.13s/it]\u001b[A\n",
            "Clients Training (Round 15):  60%|██████    | 3/5 [00:15<00:10,  5.17s/it]\u001b[A\n",
            "Clients Training (Round 15):  80%|████████  | 4/5 [00:23<00:06,  6.33s/it]\u001b[A\n",
            "Clients Training (Round 15): 100%|██████████| 5/5 [00:34<00:00,  7.86s/it]\u001b[A\n",
            "Communication Rounds: 100%|██████████| 15/15 [08:49<00:00, 35.30s/it]\n"
          ]
        },
        {
          "name": "stdout",
          "output_type": "stream",
          "text": [
            "Round 15 Accuracy: 0.6895\n"
          ]
        },
        {
          "name": "stderr",
          "output_type": "stream",
          "text": [
            "Communication Rounds:   0%|          | 0/15 [00:00<?, ?it/s]\n",
            "Clients Training (Round 1):   0%|          | 0/5 [00:00<?, ?it/s]\u001b[A\n",
            "Clients Training (Round 1):  20%|██        | 1/5 [00:11<00:44, 11.04s/it]\u001b[A\n",
            "Clients Training (Round 1):  40%|████      | 2/5 [00:27<00:43, 14.48s/it]\u001b[A\n",
            "Clients Training (Round 1):  60%|██████    | 3/5 [00:37<00:24, 12.21s/it]\u001b[A\n",
            "Clients Training (Round 1):  80%|████████  | 4/5 [00:56<00:14, 14.97s/it]\u001b[A\n",
            "Clients Training (Round 1): 100%|██████████| 5/5 [01:21<00:00, 18.56s/it]\u001b[A\n",
            "Communication Rounds:   7%|▋         | 1/15 [01:22<19:12, 82.32s/it]"
          ]
        },
        {
          "name": "stdout",
          "output_type": "stream",
          "text": [
            "Round 1 Accuracy: 0.0957\n"
          ]
        },
        {
          "name": "stderr",
          "output_type": "stream",
          "text": [
            "\n",
            "Clients Training (Round 2):   0%|          | 0/5 [00:00<?, ?it/s]\u001b[A\n",
            "Clients Training (Round 2):  20%|██        | 1/5 [00:11<00:44, 11.05s/it]\u001b[A\n",
            "Clients Training (Round 2):  40%|████      | 2/5 [00:27<00:43, 14.47s/it]\u001b[A\n",
            "Clients Training (Round 2):  60%|██████    | 3/5 [00:37<00:24, 12.20s/it]\u001b[A\n",
            "Clients Training (Round 2):  80%|████████  | 4/5 [00:56<00:14, 14.95s/it]\u001b[A\n",
            "Clients Training (Round 2): 100%|██████████| 5/5 [01:21<00:00, 18.55s/it]\u001b[A\n",
            "Communication Rounds:  13%|█▎        | 2/15 [02:44<17:50, 82.32s/it]"
          ]
        },
        {
          "name": "stdout",
          "output_type": "stream",
          "text": [
            "Round 2 Accuracy: 0.2412\n"
          ]
        },
        {
          "name": "stderr",
          "output_type": "stream",
          "text": [
            "\n",
            "Clients Training (Round 3):   0%|          | 0/5 [00:00<?, ?it/s]\u001b[A\n",
            "Clients Training (Round 3):  20%|██        | 1/5 [00:11<00:44, 11.07s/it]\u001b[A\n",
            "Clients Training (Round 3):  40%|████      | 2/5 [00:27<00:43, 14.49s/it]\u001b[A\n",
            "Clients Training (Round 3):  60%|██████    | 3/5 [00:37<00:24, 12.21s/it]\u001b[A\n",
            "Clients Training (Round 3):  80%|████████  | 4/5 [00:56<00:14, 14.96s/it]\u001b[A\n",
            "Clients Training (Round 3): 100%|██████████| 5/5 [01:21<00:00, 18.56s/it]\u001b[A\n",
            "Communication Rounds:  20%|██        | 3/15 [04:06<16:27, 82.33s/it]"
          ]
        },
        {
          "name": "stdout",
          "output_type": "stream",
          "text": [
            "Round 3 Accuracy: 0.5650\n"
          ]
        },
        {
          "name": "stderr",
          "output_type": "stream",
          "text": [
            "\n",
            "Clients Training (Round 4):   0%|          | 0/5 [00:00<?, ?it/s]\u001b[A\n",
            "Clients Training (Round 4):  20%|██        | 1/5 [00:11<00:44, 11.08s/it]\u001b[A\n",
            "Clients Training (Round 4):  40%|████      | 2/5 [00:28<00:43, 14.51s/it]\u001b[A\n",
            "Clients Training (Round 4):  60%|██████    | 3/5 [00:37<00:24, 12.23s/it]\u001b[A\n",
            "Clients Training (Round 4):  80%|████████  | 4/5 [00:56<00:14, 14.98s/it]\u001b[A\n",
            "Clients Training (Round 4): 100%|██████████| 5/5 [01:21<00:00, 18.59s/it]\u001b[A\n",
            "Communication Rounds:  27%|██▋       | 4/15 [05:29<15:06, 82.38s/it]"
          ]
        },
        {
          "name": "stdout",
          "output_type": "stream",
          "text": [
            "Round 4 Accuracy: 0.6702\n"
          ]
        },
        {
          "name": "stderr",
          "output_type": "stream",
          "text": [
            "\n",
            "Clients Training (Round 5):   0%|          | 0/5 [00:00<?, ?it/s]\u001b[A\n",
            "Clients Training (Round 5):  20%|██        | 1/5 [00:11<00:44, 11.09s/it]\u001b[A\n",
            "Clients Training (Round 5):  40%|████      | 2/5 [00:27<00:43, 14.50s/it]\u001b[A\n",
            "Clients Training (Round 5):  60%|██████    | 3/5 [00:37<00:24, 12.23s/it]\u001b[A\n",
            "Clients Training (Round 5):  80%|████████  | 4/5 [00:56<00:14, 14.98s/it]\u001b[A\n",
            "Clients Training (Round 5): 100%|██████████| 5/5 [01:21<00:00, 18.59s/it]\u001b[A\n",
            "Communication Rounds:  33%|███▎      | 5/15 [06:51<13:44, 82.40s/it]"
          ]
        },
        {
          "name": "stdout",
          "output_type": "stream",
          "text": [
            "Round 5 Accuracy: 0.7044\n"
          ]
        },
        {
          "name": "stderr",
          "output_type": "stream",
          "text": [
            "\n",
            "Clients Training (Round 6):   0%|          | 0/5 [00:00<?, ?it/s]\u001b[A\n",
            "Clients Training (Round 6):  20%|██        | 1/5 [00:11<00:44, 11.06s/it]\u001b[A\n",
            "Clients Training (Round 6):  40%|████      | 2/5 [00:27<00:43, 14.49s/it]\u001b[A\n",
            "Clients Training (Round 6):  60%|██████    | 3/5 [00:37<00:24, 12.22s/it]\u001b[A\n",
            "Clients Training (Round 6):  80%|████████  | 4/5 [00:56<00:14, 14.98s/it]\u001b[A\n",
            "Clients Training (Round 6): 100%|██████████| 5/5 [01:21<00:00, 18.60s/it]\u001b[A\n",
            "Communication Rounds:  40%|████      | 6/15 [08:14<12:21, 82.44s/it]"
          ]
        },
        {
          "name": "stdout",
          "output_type": "stream",
          "text": [
            "Round 6 Accuracy: 0.7143\n"
          ]
        },
        {
          "name": "stderr",
          "output_type": "stream",
          "text": [
            "\n",
            "Clients Training (Round 7):   0%|          | 0/5 [00:00<?, ?it/s]\u001b[A\n",
            "Clients Training (Round 7):  20%|██        | 1/5 [00:11<00:44, 11.08s/it]\u001b[A\n",
            "Clients Training (Round 7):  40%|████      | 2/5 [00:27<00:43, 14.51s/it]\u001b[A\n",
            "Clients Training (Round 7):  60%|██████    | 3/5 [00:37<00:24, 12.24s/it]\u001b[A\n",
            "Clients Training (Round 7):  80%|████████  | 4/5 [00:56<00:14, 15.00s/it]\u001b[A\n",
            "Clients Training (Round 7): 100%|██████████| 5/5 [01:21<00:00, 18.62s/it]\u001b[A\n",
            "Communication Rounds:  47%|████▋     | 7/15 [09:36<10:59, 82.47s/it]"
          ]
        },
        {
          "name": "stdout",
          "output_type": "stream",
          "text": [
            "Round 7 Accuracy: 0.7221\n"
          ]
        },
        {
          "name": "stderr",
          "output_type": "stream",
          "text": [
            "\n",
            "Clients Training (Round 8):   0%|          | 0/5 [00:00<?, ?it/s]\u001b[A\n",
            "Clients Training (Round 8):  20%|██        | 1/5 [00:11<00:44, 11.09s/it]\u001b[A\n",
            "Clients Training (Round 8):  40%|████      | 2/5 [00:28<00:43, 14.53s/it]\u001b[A\n",
            "Clients Training (Round 8):  60%|██████    | 3/5 [00:37<00:24, 12.24s/it]\u001b[A\n",
            "Clients Training (Round 8):  80%|████████  | 4/5 [00:56<00:14, 15.00s/it]\u001b[A\n",
            "Clients Training (Round 8): 100%|██████████| 5/5 [01:21<00:00, 18.61s/it]\u001b[A\n",
            "Communication Rounds:  53%|█████▎    | 8/15 [10:59<09:37, 82.50s/it]"
          ]
        },
        {
          "name": "stdout",
          "output_type": "stream",
          "text": [
            "Round 8 Accuracy: 0.7264\n"
          ]
        },
        {
          "name": "stderr",
          "output_type": "stream",
          "text": [
            "\n",
            "Clients Training (Round 9):   0%|          | 0/5 [00:00<?, ?it/s]\u001b[A\n",
            "Clients Training (Round 9):  20%|██        | 1/5 [00:11<00:44, 11.09s/it]\u001b[A\n",
            "Clients Training (Round 9):  40%|████      | 2/5 [00:27<00:43, 14.51s/it]\u001b[A\n",
            "Clients Training (Round 9):  60%|██████    | 3/5 [00:37<00:24, 12.24s/it]\u001b[A\n",
            "Clients Training (Round 9):  80%|████████  | 4/5 [00:56<00:14, 14.99s/it]\u001b[A\n",
            "Clients Training (Round 9): 100%|██████████| 5/5 [01:21<00:00, 18.61s/it]\u001b[A\n",
            "Communication Rounds:  60%|██████    | 9/15 [12:21<08:15, 82.50s/it]"
          ]
        },
        {
          "name": "stdout",
          "output_type": "stream",
          "text": [
            "Round 9 Accuracy: 0.7301\n"
          ]
        },
        {
          "name": "stderr",
          "output_type": "stream",
          "text": [
            "\n",
            "Clients Training (Round 10):   0%|          | 0/5 [00:00<?, ?it/s]\u001b[A\n",
            "Clients Training (Round 10):  20%|██        | 1/5 [00:11<00:44, 11.08s/it]\u001b[A\n",
            "Clients Training (Round 10):  40%|████      | 2/5 [00:27<00:43, 14.50s/it]\u001b[A\n",
            "Clients Training (Round 10):  60%|██████    | 3/5 [00:37<00:24, 12.23s/it]\u001b[A\n",
            "Clients Training (Round 10):  80%|████████  | 4/5 [00:56<00:14, 14.99s/it]\u001b[A\n",
            "Clients Training (Round 10): 100%|██████████| 5/5 [01:21<00:00, 18.61s/it]\u001b[A\n",
            "Communication Rounds:  67%|██████▋   | 10/15 [13:44<06:52, 82.52s/it]"
          ]
        },
        {
          "name": "stdout",
          "output_type": "stream",
          "text": [
            "Round 10 Accuracy: 0.7259\n"
          ]
        },
        {
          "name": "stderr",
          "output_type": "stream",
          "text": [
            "\n",
            "Clients Training (Round 11):   0%|          | 0/5 [00:00<?, ?it/s]\u001b[A\n",
            "Clients Training (Round 11):  20%|██        | 1/5 [00:11<00:44, 11.08s/it]\u001b[A\n",
            "Clients Training (Round 11):  40%|████      | 2/5 [00:27<00:43, 14.50s/it]\u001b[A\n",
            "Clients Training (Round 11):  60%|██████    | 3/5 [00:37<00:24, 12.23s/it]\u001b[A\n",
            "Clients Training (Round 11):  80%|████████  | 4/5 [00:56<00:14, 14.98s/it]\u001b[A\n",
            "Clients Training (Round 11): 100%|██████████| 5/5 [01:21<00:00, 18.60s/it]\u001b[A\n",
            "Communication Rounds:  73%|███████▎  | 11/15 [15:07<05:30, 82.50s/it]"
          ]
        },
        {
          "name": "stdout",
          "output_type": "stream",
          "text": [
            "Round 11 Accuracy: 0.7268\n"
          ]
        },
        {
          "name": "stderr",
          "output_type": "stream",
          "text": [
            "\n",
            "Clients Training (Round 12):   0%|          | 0/5 [00:00<?, ?it/s]\u001b[A\n",
            "Clients Training (Round 12):  20%|██        | 1/5 [00:11<00:44, 11.07s/it]\u001b[A\n",
            "Clients Training (Round 12):  40%|████      | 2/5 [00:27<00:43, 14.50s/it]\u001b[A\n",
            "Clients Training (Round 12):  60%|██████    | 3/5 [00:37<00:24, 12.22s/it]\u001b[A\n",
            "Clients Training (Round 12):  80%|████████  | 4/5 [00:56<00:14, 14.98s/it]\u001b[A\n",
            "Clients Training (Round 12): 100%|██████████| 5/5 [01:21<00:00, 18.58s/it]\u001b[A\n",
            "Communication Rounds:  80%|████████  | 12/15 [16:29<04:07, 82.48s/it]"
          ]
        },
        {
          "name": "stdout",
          "output_type": "stream",
          "text": [
            "Round 12 Accuracy: 0.7300\n"
          ]
        },
        {
          "name": "stderr",
          "output_type": "stream",
          "text": [
            "\n",
            "Clients Training (Round 13):   0%|          | 0/5 [00:00<?, ?it/s]\u001b[A\n",
            "Clients Training (Round 13):  20%|██        | 1/5 [00:11<00:44, 11.06s/it]\u001b[A\n",
            "Clients Training (Round 13):  40%|████      | 2/5 [00:28<00:43, 14.57s/it]\u001b[A\n",
            "Clients Training (Round 13):  60%|██████    | 3/5 [00:37<00:24, 12.26s/it]\u001b[A\n",
            "Clients Training (Round 13):  80%|████████  | 4/5 [00:57<00:15, 15.09s/it]\u001b[A\n",
            "Clients Training (Round 13): 100%|██████████| 5/5 [01:22<00:00, 18.67s/it]\u001b[A\n",
            "Communication Rounds:  87%|████████▋ | 13/15 [17:52<02:45, 82.58s/it]"
          ]
        },
        {
          "name": "stdout",
          "output_type": "stream",
          "text": [
            "Round 13 Accuracy: 0.7323\n"
          ]
        },
        {
          "name": "stderr",
          "output_type": "stream",
          "text": [
            "\n",
            "Clients Training (Round 14):   0%|          | 0/5 [00:00<?, ?it/s]\u001b[A\n",
            "Clients Training (Round 14):  20%|██        | 1/5 [00:11<00:44, 11.07s/it]\u001b[A\n",
            "Clients Training (Round 14):  40%|████      | 2/5 [00:27<00:43, 14.52s/it]\u001b[A\n",
            "Clients Training (Round 14):  60%|██████    | 3/5 [00:37<00:24, 12.24s/it]\u001b[A\n",
            "Clients Training (Round 14):  80%|████████  | 4/5 [00:56<00:14, 14.99s/it]\u001b[A\n",
            "Clients Training (Round 14): 100%|██████████| 5/5 [01:21<00:00, 18.58s/it]\u001b[A\n",
            "Communication Rounds:  93%|█████████▎| 14/15 [19:14<01:22, 82.53s/it]"
          ]
        },
        {
          "name": "stdout",
          "output_type": "stream",
          "text": [
            "Round 14 Accuracy: 0.7323\n"
          ]
        },
        {
          "name": "stderr",
          "output_type": "stream",
          "text": [
            "\n",
            "Clients Training (Round 15):   0%|          | 0/5 [00:00<?, ?it/s]\u001b[A\n",
            "Clients Training (Round 15):  20%|██        | 1/5 [00:11<00:44, 11.06s/it]\u001b[A\n",
            "Clients Training (Round 15):  40%|████      | 2/5 [00:27<00:43, 14.47s/it]\u001b[A\n",
            "Clients Training (Round 15):  60%|██████    | 3/5 [00:37<00:24, 12.20s/it]\u001b[A\n",
            "Clients Training (Round 15):  80%|████████  | 4/5 [00:56<00:14, 14.95s/it]\u001b[A\n",
            "Clients Training (Round 15): 100%|██████████| 5/5 [01:21<00:00, 18.55s/it]\u001b[A\n",
            "Communication Rounds: 100%|██████████| 15/15 [20:36<00:00, 82.46s/it]"
          ]
        },
        {
          "name": "stdout",
          "output_type": "stream",
          "text": [
            "Round 15 Accuracy: 0.7342\n"
          ]
        },
        {
          "name": "stderr",
          "output_type": "stream",
          "text": [
            "\n"
          ]
        }
      ],
      "source": [
        "alpha = 0.5\n",
        "round_accuracies_fedavg, round_accuracies_fedavg_adv = run_fedavg(alpha)\n",
        "accuracies_per_alpha[alpha].append(round_accuracies_fedavg)"
      ]
    },
    {
      "cell_type": "code",
      "execution_count": null,
      "metadata": {
        "colab": {
          "base_uri": "https://localhost:8080/",
          "height": 564
        },
        "id": "BwexklHG4TDA",
        "outputId": "d3c63d90-ef4e-46d4-918c-8727a05056f6"
      },
      "outputs": [
        {
          "data": {
            "image/png": "[encoded data removed]",
            "text/plain": [
              "<Figure size 1000x600 with 1 Axes>"
            ]
          },
          "metadata": {},
          "output_type": "display_data"
        }
      ],
      "source": [
        "alpha = 0.5\n",
        "accuracies = accuracies_per_alpha[alpha]\n",
        "# accuracies_per_alpha[alpha].append(round_accuracies_fedavg,round_accuracies_fedavg_adv)\n",
        "\n",
        "# Extract the FedAvg and FedAvg Adv accuracies\n",
        "plot_round_accuracies_fedavg = round_accuracies_fedavg\n",
        "plot_round_accuracies_fedavg_adv = round_accuracies_fedavg_adv\n",
        "\n",
        "# Number of rounds\n",
        "num_rounds = len(plot_round_accuracies_fedavg)\n",
        "rounds = range(1, num_rounds + 1)\n",
        "\n",
        "# Plot the data\n",
        "plt.figure(figsize=(10, 6))\n",
        "plt.plot(rounds, plot_round_accuracies_fedavg, label='FedAvg', marker='o')\n",
        "plt.plot(rounds, plot_round_accuracies_fedavg_adv, label='FedAvg with Adversarial Feature Alignment', marker='s')\n",
        "\n",
        "# Add labels, title, and legend\n",
        "plt.xlabel(\"Rounds\")\n",
        "plt.ylabel(\"Accuracy\")\n",
        "plt.title(f\"Accuracy vs. Rounds for FedAvg (Alpha={alpha})\")\n",
        "plt.legend()\n",
        "plt.grid(True)\n",
        "plt.show()"
      ]
    },
    {
      "cell_type": "markdown",
      "metadata": {
        "id": "zl1vQwKBkHtl"
      },
      "source": [
        "# With alpha = 2"
      ]
    },
    {
      "cell_type": "code",
      "execution_count": null,
      "metadata": {
        "colab": {
          "base_uri": "https://localhost:8080/",
          "height": 1000
        },
        "id": "0s7uCtwN-yuk",
        "outputId": "d1378b2b-f3ad-4e38-a456-13b38c4d383c"
      },
      "outputs": [
        {
          "name": "stderr",
          "output_type": "stream",
          "text": [
            "Communication Rounds:   0%|          | 0/15 [00:00<?, ?it/s]\n",
            "Clients Training (Round 1):   0%|          | 0/5 [00:00<?, ?it/s]\u001b[A\n",
            "Clients Training (Round 1):  20%|██        | 1/5 [00:05<00:20,  5.25s/it]\u001b[A\n",
            "Clients Training (Round 1):  40%|████      | 2/5 [00:13<00:20,  6.85s/it]\u001b[A\n",
            "Clients Training (Round 1):  60%|██████    | 3/5 [00:19<00:13,  6.82s/it]\u001b[A\n",
            "Clients Training (Round 1):  80%|████████  | 4/5 [00:26<00:06,  6.83s/it]\u001b[A\n",
            "Clients Training (Round 1): 100%|██████████| 5/5 [00:35<00:00,  7.41s/it]\u001b[A\n",
            "Communication Rounds:   7%|▋         | 1/15 [00:36<08:26, 36.20s/it]"
          ]
        },
        {
          "name": "stdout",
          "output_type": "stream",
          "text": [
            "Round 1 Accuracy: 0.0998\n"
          ]
        },
        {
          "name": "stderr",
          "output_type": "stream",
          "text": [
            "\n",
            "Clients Training (Round 2):   0%|          | 0/5 [00:00<?, ?it/s]\u001b[A\n",
            "Clients Training (Round 2):  20%|██        | 1/5 [00:04<00:19,  4.94s/it]\u001b[A\n",
            "Clients Training (Round 2):  40%|████      | 2/5 [00:13<00:20,  6.86s/it]\u001b[A\n",
            "Clients Training (Round 2):  60%|██████    | 3/5 [00:19<00:13,  6.85s/it]\u001b[A\n",
            "Clients Training (Round 2):  80%|████████  | 4/5 [00:27<00:06,  6.93s/it]\u001b[A\n",
            "Clients Training (Round 2): 100%|██████████| 5/5 [00:35<00:00,  7.53s/it]\u001b[A\n",
            "Communication Rounds:  13%|█▎        | 2/15 [01:12<07:51, 36.30s/it]"
          ]
        },
        {
          "name": "stdout",
          "output_type": "stream",
          "text": [
            "Round 2 Accuracy: 0.3912\n"
          ]
        },
        {
          "name": "stderr",
          "output_type": "stream",
          "text": [
            "\n",
            "Clients Training (Round 3):   0%|          | 0/5 [00:00<?, ?it/s]\u001b[A\n",
            "Clients Training (Round 3):  20%|██        | 1/5 [00:04<00:19,  4.97s/it]\u001b[A\n",
            "Clients Training (Round 3):  40%|████      | 2/5 [00:13<00:20,  6.91s/it]\u001b[A\n",
            "Clients Training (Round 3):  60%|██████    | 3/5 [00:20<00:13,  6.84s/it]\u001b[A\n",
            "Clients Training (Round 3):  80%|████████  | 4/5 [00:26<00:06,  6.89s/it]\u001b[A\n",
            "Clients Training (Round 3): 100%|██████████| 5/5 [00:35<00:00,  7.47s/it]\u001b[A\n",
            "Communication Rounds:  20%|██        | 3/15 [01:48<07:15, 36.26s/it]"
          ]
        },
        {
          "name": "stdout",
          "output_type": "stream",
          "text": [
            "Round 3 Accuracy: 0.6464\n"
          ]
        },
        {
          "name": "stderr",
          "output_type": "stream",
          "text": [
            "\n",
            "Clients Training (Round 4):   0%|          | 0/5 [00:00<?, ?it/s]\u001b[A\n",
            "Clients Training (Round 4):  20%|██        | 1/5 [00:04<00:19,  4.94s/it]\u001b[A\n",
            "Clients Training (Round 4):  40%|████      | 2/5 [00:13<00:20,  6.85s/it]\u001b[A\n",
            "Clients Training (Round 4):  60%|██████    | 3/5 [00:19<00:13,  6.82s/it]\u001b[A\n",
            "Clients Training (Round 4):  80%|████████  | 4/5 [00:26<00:06,  6.89s/it]\u001b[A\n",
            "Clients Training (Round 4): 100%|██████████| 5/5 [00:35<00:00,  7.50s/it]\u001b[A\n",
            "Communication Rounds:  27%|██▋       | 4/15 [02:25<06:39, 36.31s/it]"
          ]
        },
        {
          "name": "stdout",
          "output_type": "stream",
          "text": [
            "Round 4 Accuracy: 0.6993\n"
          ]
        },
        {
          "name": "stderr",
          "output_type": "stream",
          "text": [
            "\n",
            "Clients Training (Round 5):   0%|          | 0/5 [00:00<?, ?it/s]\u001b[A\n",
            "Clients Training (Round 5):  20%|██        | 1/5 [00:05<00:20,  5.03s/it]\u001b[A\n",
            "Clients Training (Round 5):  40%|████      | 2/5 [00:13<00:20,  6.92s/it]\u001b[A\n",
            "Clients Training (Round 5):  60%|██████    | 3/5 [00:20<00:13,  6.86s/it]\u001b[A\n",
            "Clients Training (Round 5):  80%|████████  | 4/5 [00:27<00:06,  6.91s/it]\u001b[A\n",
            "Clients Training (Round 5): 100%|██████████| 5/5 [00:35<00:00,  7.50s/it]\u001b[A\n",
            "Communication Rounds:  33%|███▎      | 5/15 [03:01<06:03, 36.32s/it]"
          ]
        },
        {
          "name": "stdout",
          "output_type": "stream",
          "text": [
            "Round 5 Accuracy: 0.7163\n"
          ]
        },
        {
          "name": "stderr",
          "output_type": "stream",
          "text": [
            "\n",
            "Clients Training (Round 6):   0%|          | 0/5 [00:00<?, ?it/s]\u001b[A\n",
            "Clients Training (Round 6):  20%|██        | 1/5 [00:04<00:19,  4.96s/it]\u001b[A\n",
            "Clients Training (Round 6):  40%|████      | 2/5 [00:13<00:20,  6.86s/it]\u001b[A\n",
            "Clients Training (Round 6):  60%|██████    | 3/5 [00:19<00:13,  6.83s/it]\u001b[A\n",
            "Clients Training (Round 6):  80%|████████  | 4/5 [00:26<00:06,  6.89s/it]\u001b[A\n",
            "Clients Training (Round 6): 100%|██████████| 5/5 [00:35<00:00,  7.50s/it]\u001b[A\n",
            "Communication Rounds:  40%|████      | 6/15 [03:37<05:26, 36.30s/it]"
          ]
        },
        {
          "name": "stdout",
          "output_type": "stream",
          "text": [
            "Round 6 Accuracy: 0.7319\n"
          ]
        },
        {
          "name": "stderr",
          "output_type": "stream",
          "text": [
            "\n",
            "Clients Training (Round 7):   0%|          | 0/5 [00:00<?, ?it/s]\u001b[A\n",
            "Clients Training (Round 7):  20%|██        | 1/5 [00:04<00:19,  4.98s/it]\u001b[A\n",
            "Clients Training (Round 7):  40%|████      | 2/5 [00:13<00:20,  6.89s/it]\u001b[A\n",
            "Clients Training (Round 7):  60%|██████    | 3/5 [00:20<00:13,  6.85s/it]\u001b[A\n",
            "Clients Training (Round 7):  80%|████████  | 4/5 [00:27<00:06,  6.91s/it]\u001b[A\n",
            "Clients Training (Round 7): 100%|██████████| 5/5 [00:35<00:00,  7.50s/it]\u001b[A\n",
            "Communication Rounds:  47%|████▋     | 7/15 [04:14<04:50, 36.30s/it]"
          ]
        },
        {
          "name": "stdout",
          "output_type": "stream",
          "text": [
            "Round 7 Accuracy: 0.7349\n"
          ]
        },
        {
          "name": "stderr",
          "output_type": "stream",
          "text": [
            "\n",
            "Clients Training (Round 8):   0%|          | 0/5 [00:00<?, ?it/s]\u001b[A\n",
            "Clients Training (Round 8):  20%|██        | 1/5 [00:04<00:19,  4.96s/it]\u001b[A\n",
            "Clients Training (Round 8):  40%|████      | 2/5 [00:13<00:20,  6.88s/it]\u001b[A\n",
            "Clients Training (Round 8):  60%|██████    | 3/5 [00:19<00:13,  6.84s/it]\u001b[A\n",
            "Clients Training (Round 8):  80%|████████  | 4/5 [00:26<00:06,  6.89s/it]\u001b[A\n",
            "Clients Training (Round 8): 100%|██████████| 5/5 [00:35<00:00,  7.49s/it]\u001b[A\n",
            "Communication Rounds:  53%|█████▎    | 8/15 [04:50<04:14, 36.30s/it]"
          ]
        },
        {
          "name": "stdout",
          "output_type": "stream",
          "text": [
            "Round 8 Accuracy: 0.7378\n"
          ]
        },
        {
          "name": "stderr",
          "output_type": "stream",
          "text": [
            "\n",
            "Clients Training (Round 9):   0%|          | 0/5 [00:00<?, ?it/s]\u001b[A\n",
            "Clients Training (Round 9):  20%|██        | 1/5 [00:04<00:19,  4.96s/it]\u001b[A\n",
            "Clients Training (Round 9):  40%|████      | 2/5 [00:13<00:20,  6.86s/it]\u001b[A\n",
            "Clients Training (Round 9):  60%|██████    | 3/5 [00:19<00:13,  6.83s/it]\u001b[A\n",
            "Clients Training (Round 9):  80%|████████  | 4/5 [00:26<00:06,  6.89s/it]\u001b[A\n",
            "Clients Training (Round 9): 100%|██████████| 5/5 [00:35<00:00,  7.48s/it]\u001b[A\n",
            "Communication Rounds:  60%|██████    | 9/15 [05:26<03:37, 36.29s/it]"
          ]
        },
        {
          "name": "stdout",
          "output_type": "stream",
          "text": [
            "Round 9 Accuracy: 0.7351\n"
          ]
        },
        {
          "name": "stderr",
          "output_type": "stream",
          "text": [
            "\n",
            "Clients Training (Round 10):   0%|          | 0/5 [00:00<?, ?it/s]\u001b[A\n",
            "Clients Training (Round 10):  20%|██        | 1/5 [00:04<00:19,  4.97s/it]\u001b[A\n",
            "Clients Training (Round 10):  40%|████      | 2/5 [00:13<00:20,  6.87s/it]\u001b[A\n",
            "Clients Training (Round 10):  60%|██████    | 3/5 [00:19<00:13,  6.83s/it]\u001b[A\n",
            "Clients Training (Round 10):  80%|████████  | 4/5 [00:26<00:06,  6.89s/it]\u001b[A\n",
            "Clients Training (Round 10): 100%|██████████| 5/5 [00:35<00:00,  7.48s/it]\u001b[A\n",
            "Communication Rounds:  67%|██████▋   | 10/15 [06:02<03:01, 36.28s/it]"
          ]
        },
        {
          "name": "stdout",
          "output_type": "stream",
          "text": [
            "Round 10 Accuracy: 0.7416\n"
          ]
        },
        {
          "name": "stderr",
          "output_type": "stream",
          "text": [
            "\n",
            "Clients Training (Round 11):   0%|          | 0/5 [00:00<?, ?it/s]\u001b[A\n",
            "Clients Training (Round 11):  20%|██        | 1/5 [00:04<00:19,  4.97s/it]\u001b[A\n",
            "Clients Training (Round 11):  40%|████      | 2/5 [00:13<00:20,  6.88s/it]\u001b[A\n",
            "Clients Training (Round 11):  60%|██████    | 3/5 [00:19<00:13,  6.84s/it]\u001b[A\n",
            "Clients Training (Round 11):  80%|████████  | 4/5 [00:26<00:06,  6.89s/it]\u001b[A\n",
            "Clients Training (Round 11): 100%|██████████| 5/5 [00:35<00:00,  7.48s/it]\u001b[A\n",
            "Communication Rounds:  73%|███████▎  | 11/15 [06:39<02:25, 36.27s/it]"
          ]
        },
        {
          "name": "stdout",
          "output_type": "stream",
          "text": [
            "Round 11 Accuracy: 0.7407\n"
          ]
        },
        {
          "name": "stderr",
          "output_type": "stream",
          "text": [
            "\n",
            "Clients Training (Round 12):   0%|          | 0/5 [00:00<?, ?it/s]\u001b[A\n",
            "Clients Training (Round 12):  20%|██        | 1/5 [00:04<00:19,  4.97s/it]\u001b[A\n",
            "Clients Training (Round 12):  40%|████      | 2/5 [00:13<00:20,  6.86s/it]\u001b[A\n",
            "Clients Training (Round 12):  60%|██████    | 3/5 [00:19<00:13,  6.83s/it]\u001b[A\n",
            "Clients Training (Round 12):  80%|████████  | 4/5 [00:26<00:06,  6.88s/it]\u001b[A\n",
            "Clients Training (Round 12): 100%|██████████| 5/5 [00:35<00:00,  7.48s/it]\u001b[A\n",
            "Communication Rounds:  80%|████████  | 12/15 [07:15<01:48, 36.25s/it]"
          ]
        },
        {
          "name": "stdout",
          "output_type": "stream",
          "text": [
            "Round 12 Accuracy: 0.7439\n"
          ]
        },
        {
          "name": "stderr",
          "output_type": "stream",
          "text": [
            "\n",
            "Clients Training (Round 13):   0%|          | 0/5 [00:00<?, ?it/s]\u001b[A\n",
            "Clients Training (Round 13):  20%|██        | 1/5 [00:04<00:19,  4.96s/it]\u001b[A\n",
            "Clients Training (Round 13):  40%|████      | 2/5 [00:13<00:20,  6.86s/it]\u001b[A\n",
            "Clients Training (Round 13):  60%|██████    | 3/5 [00:19<00:13,  6.83s/it]\u001b[A\n",
            "Clients Training (Round 13):  80%|████████  | 4/5 [00:26<00:06,  6.88s/it]\u001b[A\n",
            "Clients Training (Round 13): 100%|██████████| 5/5 [00:35<00:00,  7.48s/it]\u001b[A\n",
            "Communication Rounds:  87%|████████▋ | 13/15 [07:51<01:12, 36.22s/it]"
          ]
        },
        {
          "name": "stdout",
          "output_type": "stream",
          "text": [
            "Round 13 Accuracy: 0.7400\n"
          ]
        },
        {
          "name": "stderr",
          "output_type": "stream",
          "text": [
            "\n",
            "Clients Training (Round 14):   0%|          | 0/5 [00:00<?, ?it/s]\u001b[A\n",
            "Clients Training (Round 14):  20%|██        | 1/5 [00:04<00:19,  4.96s/it]\u001b[A\n",
            "Clients Training (Round 14):  40%|████      | 2/5 [00:13<00:20,  6.86s/it]\u001b[A\n",
            "Clients Training (Round 14):  60%|██████    | 3/5 [00:19<00:13,  6.82s/it]\u001b[A\n",
            "Clients Training (Round 14):  80%|████████  | 4/5 [00:26<00:06,  6.88s/it]\u001b[A\n",
            "Clients Training (Round 14): 100%|██████████| 5/5 [00:35<00:00,  7.48s/it]\u001b[A\n",
            "Communication Rounds:  93%|█████████▎| 14/15 [08:27<00:36, 36.21s/it]"
          ]
        },
        {
          "name": "stdout",
          "output_type": "stream",
          "text": [
            "Round 14 Accuracy: 0.7468\n"
          ]
        },
        {
          "name": "stderr",
          "output_type": "stream",
          "text": [
            "\n",
            "Clients Training (Round 15):   0%|          | 0/5 [00:00<?, ?it/s]\u001b[A\n",
            "Clients Training (Round 15):  20%|██        | 1/5 [00:04<00:19,  4.96s/it]\u001b[A\n",
            "Clients Training (Round 15):  40%|████      | 2/5 [00:13<00:20,  6.86s/it]\u001b[A\n",
            "Clients Training (Round 15):  60%|██████    | 3/5 [00:19<00:13,  6.82s/it]\u001b[A\n",
            "Clients Training (Round 15):  80%|████████  | 4/5 [00:26<00:06,  6.88s/it]\u001b[A\n",
            "Clients Training (Round 15): 100%|██████████| 5/5 [00:35<00:00,  7.48s/it]\u001b[A\n",
            "Communication Rounds: 100%|██████████| 15/15 [09:03<00:00, 36.26s/it]\n"
          ]
        },
        {
          "name": "stdout",
          "output_type": "stream",
          "text": [
            "Round 15 Accuracy: 0.7444\n"
          ]
        },
        {
          "name": "stderr",
          "output_type": "stream",
          "text": [
            "Communication Rounds:   0%|          | 0/15 [00:00<?, ?it/s]\n",
            "Clients Training (Round 1):   0%|          | 0/5 [00:00<?, ?it/s]\u001b[A\n",
            "Clients Training (Round 1):  20%|██        | 1/5 [00:11<00:47, 11.96s/it]\u001b[A\n",
            "Clients Training (Round 1):  40%|████      | 2/5 [00:31<00:48, 16.32s/it]\u001b[A\n",
            "Clients Training (Round 1):  60%|██████    | 3/5 [00:47<00:32, 16.17s/it]\u001b[A\n",
            "Clients Training (Round 1):  80%|████████  | 4/5 [01:03<00:16, 16.27s/it]\u001b[A\n",
            "Clients Training (Round 1): 100%|██████████| 5/5 [01:23<00:00, 17.67s/it]\u001b[A\n",
            "Communication Rounds:   7%|▋         | 1/15 [01:24<19:44, 84.63s/it]"
          ]
        },
        {
          "name": "stdout",
          "output_type": "stream",
          "text": [
            "Round 1 Accuracy: 0.0997\n"
          ]
        },
        {
          "name": "stderr",
          "output_type": "stream",
          "text": [
            "\n",
            "Clients Training (Round 2):   0%|          | 0/5 [00:00<?, ?it/s]\u001b[A\n",
            "Clients Training (Round 2):  20%|██        | 1/5 [00:11<00:46, 11.69s/it]\u001b[A\n",
            "Clients Training (Round 2):  40%|████      | 2/5 [00:31<00:48, 16.19s/it]\u001b[A\n",
            "Clients Training (Round 2):  60%|██████    | 3/5 [00:47<00:32, 16.11s/it]\u001b[A\n",
            "Clients Training (Round 2):  80%|████████  | 4/5 [01:03<00:16, 16.24s/it]\u001b[A\n",
            "Clients Training (Round 2): 100%|██████████| 5/5 [01:23<00:00, 17.65s/it]\u001b[A\n",
            "Communication Rounds:  13%|█▎        | 2/15 [02:49<18:18, 84.49s/it]"
          ]
        },
        {
          "name": "stdout",
          "output_type": "stream",
          "text": [
            "Round 2 Accuracy: 0.4767\n"
          ]
        },
        {
          "name": "stderr",
          "output_type": "stream",
          "text": [
            "\n",
            "Clients Training (Round 3):   0%|          | 0/5 [00:00<?, ?it/s]\u001b[A\n",
            "Clients Training (Round 3):  20%|██        | 1/5 [00:11<00:46, 11.71s/it]\u001b[A\n",
            "Clients Training (Round 3):  40%|████      | 2/5 [00:31<00:48, 16.23s/it]\u001b[A\n",
            "Clients Training (Round 3):  60%|██████    | 3/5 [00:47<00:32, 16.14s/it]\u001b[A\n",
            "Clients Training (Round 3):  80%|████████  | 4/5 [01:03<00:16, 16.27s/it]\u001b[A\n",
            "Clients Training (Round 3): 100%|██████████| 5/5 [01:23<00:00, 17.69s/it]\u001b[A\n",
            "Communication Rounds:  20%|██        | 3/15 [04:13<16:54, 84.53s/it]"
          ]
        },
        {
          "name": "stdout",
          "output_type": "stream",
          "text": [
            "Round 3 Accuracy: 0.6860\n"
          ]
        },
        {
          "name": "stderr",
          "output_type": "stream",
          "text": [
            "\n",
            "Clients Training (Round 4):   0%|          | 0/5 [00:00<?, ?it/s]\u001b[A\n",
            "Clients Training (Round 4):  20%|██        | 1/5 [00:11<00:46, 11.73s/it]\u001b[A\n",
            "Clients Training (Round 4):  40%|████      | 2/5 [00:31<00:48, 16.26s/it]\u001b[A\n",
            "Clients Training (Round 4):  60%|██████    | 3/5 [00:47<00:32, 16.17s/it]\u001b[A\n",
            "Clients Training (Round 4):  80%|████████  | 4/5 [01:03<00:16, 16.30s/it]\u001b[A\n",
            "Clients Training (Round 4): 100%|██████████| 5/5 [01:23<00:00, 17.72s/it]\u001b[A\n",
            "Communication Rounds:  27%|██▋       | 4/15 [05:38<15:30, 84.61s/it]"
          ]
        },
        {
          "name": "stdout",
          "output_type": "stream",
          "text": [
            "Round 4 Accuracy: 0.7363\n"
          ]
        },
        {
          "name": "stderr",
          "output_type": "stream",
          "text": [
            "\n",
            "Clients Training (Round 5):   0%|          | 0/5 [00:00<?, ?it/s]\u001b[A\n",
            "Clients Training (Round 5):  20%|██        | 1/5 [00:11<00:46, 11.75s/it]\u001b[A\n",
            "Clients Training (Round 5):  40%|████      | 2/5 [00:31<00:48, 16.27s/it]\u001b[A\n",
            "Clients Training (Round 5):  60%|██████    | 3/5 [00:47<00:32, 16.18s/it]\u001b[A\n",
            "Clients Training (Round 5):  80%|████████  | 4/5 [01:03<00:16, 16.32s/it]\u001b[A\n",
            "Clients Training (Round 5): 100%|██████████| 5/5 [01:24<00:00, 17.74s/it]\u001b[A\n",
            "Communication Rounds:  33%|███▎      | 5/15 [07:03<14:06, 84.68s/it]"
          ]
        },
        {
          "name": "stdout",
          "output_type": "stream",
          "text": [
            "Round 5 Accuracy: 0.7541\n"
          ]
        },
        {
          "name": "stderr",
          "output_type": "stream",
          "text": [
            "\n",
            "Clients Training (Round 6):   0%|          | 0/5 [00:00<?, ?it/s]\u001b[A\n",
            "Clients Training (Round 6):  20%|██        | 1/5 [00:11<00:47, 11.75s/it]\u001b[A\n",
            "Clients Training (Round 6):  40%|████      | 2/5 [00:31<00:48, 16.27s/it]\u001b[A\n",
            "Clients Training (Round 6):  60%|██████    | 3/5 [00:47<00:32, 16.17s/it]\u001b[A\n",
            "Clients Training (Round 6):  80%|████████  | 4/5 [01:03<00:16, 16.31s/it]\u001b[A\n",
            "Clients Training (Round 6): 100%|██████████| 5/5 [01:24<00:00, 17.73s/it]\u001b[A\n",
            "Communication Rounds:  40%|████      | 6/15 [08:27<12:42, 84.70s/it]"
          ]
        },
        {
          "name": "stdout",
          "output_type": "stream",
          "text": [
            "Round 6 Accuracy: 0.7583\n"
          ]
        },
        {
          "name": "stderr",
          "output_type": "stream",
          "text": [
            "\n",
            "Clients Training (Round 7):   0%|          | 0/5 [00:00<?, ?it/s]\u001b[A\n",
            "Clients Training (Round 7):  20%|██        | 1/5 [00:11<00:47, 11.75s/it]\u001b[A\n",
            "Clients Training (Round 7):  40%|████      | 2/5 [00:31<00:48, 16.28s/it]\u001b[A\n",
            "Clients Training (Round 7):  60%|██████    | 3/5 [00:47<00:32, 16.18s/it]\u001b[A\n",
            "Clients Training (Round 7):  80%|████████  | 4/5 [01:03<00:16, 16.32s/it]\u001b[A\n",
            "Clients Training (Round 7): 100%|██████████| 5/5 [01:24<00:00, 17.73s/it]\u001b[A\n",
            "Communication Rounds:  47%|████▋     | 7/15 [09:52<11:17, 84.73s/it]"
          ]
        },
        {
          "name": "stdout",
          "output_type": "stream",
          "text": [
            "Round 7 Accuracy: 0.7641\n"
          ]
        },
        {
          "name": "stderr",
          "output_type": "stream",
          "text": [
            "\n",
            "Clients Training (Round 8):   0%|          | 0/5 [00:00<?, ?it/s]\u001b[A\n",
            "Clients Training (Round 8):  20%|██        | 1/5 [00:11<00:46, 11.75s/it]\u001b[A\n",
            "Clients Training (Round 8):  40%|████      | 2/5 [00:31<00:48, 16.27s/it]\u001b[A\n",
            "Clients Training (Round 8):  60%|██████    | 3/5 [00:47<00:32, 16.17s/it]\u001b[A\n",
            "Clients Training (Round 8):  80%|████████  | 4/5 [01:03<00:16, 16.31s/it]\u001b[A\n",
            "Clients Training (Round 8): 100%|██████████| 5/5 [01:23<00:00, 17.72s/it]\u001b[A\n",
            "Communication Rounds:  53%|█████▎    | 8/15 [11:17<09:53, 84.73s/it]"
          ]
        },
        {
          "name": "stdout",
          "output_type": "stream",
          "text": [
            "Round 8 Accuracy: 0.7629\n"
          ]
        },
        {
          "name": "stderr",
          "output_type": "stream",
          "text": [
            "\n",
            "Clients Training (Round 9):   0%|          | 0/5 [00:00<?, ?it/s]\u001b[A\n",
            "Clients Training (Round 9):  20%|██        | 1/5 [00:11<00:46, 11.74s/it]\u001b[A\n",
            "Clients Training (Round 9):  40%|████      | 2/5 [00:31<00:48, 16.26s/it]\u001b[A\n",
            "Clients Training (Round 9):  60%|██████    | 3/5 [00:47<00:32, 16.17s/it]\u001b[A\n",
            "Clients Training (Round 9):  80%|████████  | 4/5 [01:03<00:16, 16.30s/it]\u001b[A\n",
            "Clients Training (Round 9): 100%|██████████| 5/5 [01:23<00:00, 17.71s/it]\u001b[A\n",
            "Communication Rounds:  60%|██████    | 9/15 [12:42<08:28, 84.72s/it]"
          ]
        },
        {
          "name": "stdout",
          "output_type": "stream",
          "text": [
            "Round 9 Accuracy: 0.7674\n"
          ]
        },
        {
          "name": "stderr",
          "output_type": "stream",
          "text": [
            "\n",
            "Clients Training (Round 10):   0%|          | 0/5 [00:00<?, ?it/s]\u001b[A\n",
            "Clients Training (Round 10):  20%|██        | 1/5 [00:11<00:46, 11.72s/it]\u001b[A\n",
            "Clients Training (Round 10):  40%|████      | 2/5 [00:31<00:48, 16.24s/it]\u001b[A\n",
            "Clients Training (Round 10):  60%|██████    | 3/5 [00:47<00:32, 16.14s/it]\u001b[A\n",
            "Clients Training (Round 10):  80%|████████  | 4/5 [01:03<00:16, 16.27s/it]\u001b[A\n",
            "Clients Training (Round 10): 100%|██████████| 5/5 [01:23<00:00, 17.69s/it]\u001b[A\n",
            "Communication Rounds:  67%|██████▋   | 10/15 [14:06<07:03, 84.68s/it]"
          ]
        },
        {
          "name": "stdout",
          "output_type": "stream",
          "text": [
            "Round 10 Accuracy: 0.7690\n"
          ]
        },
        {
          "name": "stderr",
          "output_type": "stream",
          "text": [
            "\n",
            "Clients Training (Round 11):   0%|          | 0/5 [00:00<?, ?it/s]\u001b[A\n",
            "Clients Training (Round 11):  20%|██        | 1/5 [00:11<00:46, 11.71s/it]\u001b[A\n",
            "Clients Training (Round 11):  40%|████      | 2/5 [00:31<00:48, 16.23s/it]\u001b[A\n",
            "Clients Training (Round 11):  60%|██████    | 3/5 [00:47<00:32, 16.14s/it]\u001b[A\n",
            "Clients Training (Round 11):  80%|████████  | 4/5 [01:03<00:16, 16.27s/it]\u001b[A\n",
            "Clients Training (Round 11): 100%|██████████| 5/5 [01:23<00:00, 17.69s/it]\u001b[A\n",
            "Communication Rounds:  73%|███████▎  | 11/15 [15:31<05:38, 84.66s/it]"
          ]
        },
        {
          "name": "stdout",
          "output_type": "stream",
          "text": [
            "Round 11 Accuracy: 0.7711\n"
          ]
        },
        {
          "name": "stderr",
          "output_type": "stream",
          "text": [
            "\n",
            "Clients Training (Round 12):   0%|          | 0/5 [00:00<?, ?it/s]\u001b[A\n",
            "Clients Training (Round 12):  20%|██        | 1/5 [00:11<00:46, 11.73s/it]\u001b[A\n",
            "Clients Training (Round 12):  40%|████      | 2/5 [00:31<00:48, 16.24s/it]\u001b[A\n",
            "Clients Training (Round 12):  60%|██████    | 3/5 [00:47<00:32, 16.15s/it]\u001b[A\n",
            "Clients Training (Round 12):  80%|████████  | 4/5 [01:03<00:16, 16.28s/it]\u001b[A\n",
            "Clients Training (Round 12): 100%|██████████| 5/5 [01:23<00:00, 17.69s/it]\u001b[A\n",
            "Communication Rounds:  80%|████████  | 12/15 [16:55<04:13, 84.64s/it]"
          ]
        },
        {
          "name": "stdout",
          "output_type": "stream",
          "text": [
            "Round 12 Accuracy: 0.7721\n"
          ]
        },
        {
          "name": "stderr",
          "output_type": "stream",
          "text": [
            "\n",
            "Clients Training (Round 13):   0%|          | 0/5 [00:00<?, ?it/s]\u001b[A\n",
            "Clients Training (Round 13):  20%|██        | 1/5 [00:11<00:46, 11.71s/it]\u001b[A\n",
            "Clients Training (Round 13):  40%|████      | 2/5 [00:31<00:48, 16.21s/it]\u001b[A\n",
            "Clients Training (Round 13):  60%|██████    | 3/5 [00:47<00:32, 16.12s/it]\u001b[A\n",
            "Clients Training (Round 13):  80%|████████  | 4/5 [01:03<00:16, 16.26s/it]\u001b[A\n",
            "Clients Training (Round 13): 100%|██████████| 5/5 [01:23<00:00, 17.67s/it]\u001b[A\n",
            "Communication Rounds:  87%|████████▋ | 13/15 [18:20<02:49, 84.59s/it]"
          ]
        },
        {
          "name": "stdout",
          "output_type": "stream",
          "text": [
            "Round 13 Accuracy: 0.7680\n"
          ]
        },
        {
          "name": "stderr",
          "output_type": "stream",
          "text": [
            "\n",
            "Clients Training (Round 14):   0%|          | 0/5 [00:00<?, ?it/s]\u001b[A\n",
            "Clients Training (Round 14):  20%|██        | 1/5 [00:11<00:46, 11.72s/it]\u001b[A\n",
            "Clients Training (Round 14):  40%|████      | 2/5 [00:31<00:48, 16.23s/it]\u001b[A\n",
            "Clients Training (Round 14):  60%|██████    | 3/5 [00:47<00:32, 16.13s/it]\u001b[A\n",
            "Clients Training (Round 14):  80%|████████  | 4/5 [01:03<00:16, 16.26s/it]\u001b[A\n",
            "Clients Training (Round 14): 100%|██████████| 5/5 [01:23<00:00, 17.68s/it]\u001b[A\n",
            "Communication Rounds:  93%|█████████▎| 14/15 [19:44<01:24, 84.57s/it]"
          ]
        },
        {
          "name": "stdout",
          "output_type": "stream",
          "text": [
            "Round 14 Accuracy: 0.7782\n"
          ]
        },
        {
          "name": "stderr",
          "output_type": "stream",
          "text": [
            "\n",
            "Clients Training (Round 15):   0%|          | 0/5 [00:00<?, ?it/s]\u001b[A\n",
            "Clients Training (Round 15):  20%|██        | 1/5 [00:11<00:46, 11.71s/it]\u001b[A\n",
            "Clients Training (Round 15):  40%|████      | 2/5 [00:31<00:48, 16.21s/it]\u001b[A\n",
            "Clients Training (Round 15):  60%|██████    | 3/5 [00:47<00:32, 16.12s/it]\u001b[A\n",
            "Clients Training (Round 15):  80%|████████  | 4/5 [01:03<00:16, 16.25s/it]\u001b[A\n",
            "Clients Training (Round 15): 100%|██████████| 5/5 [01:23<00:00, 17.67s/it]\u001b[A\n",
            "Communication Rounds: 100%|██████████| 15/15 [21:09<00:00, 84.62s/it]"
          ]
        },
        {
          "name": "stdout",
          "output_type": "stream",
          "text": [
            "Round 15 Accuracy: 0.7740\n"
          ]
        },
        {
          "name": "stderr",
          "output_type": "stream",
          "text": [
            "\n"
          ]
        },
        {
          "ename": "KeyError",
          "evalue": "2",
          "output_type": "error",
          "traceback": [
            "\u001b[0;31m---------------------------------------------------------------------------\u001b[0m",
            "\u001b[0;31mKeyError\u001b[0m                                  Traceback (most recent call last)",
            "\u001b[0;32m<ipython-input-11-06806357f5c4>\u001b[0m in \u001b[0;36m<cell line: 3>\u001b[0;34m()\u001b[0m\n\u001b[1;32m      1\u001b[0m \u001b[0malpha\u001b[0m \u001b[0;34m=\u001b[0m \u001b[0;36m2\u001b[0m\u001b[0;34m\u001b[0m\u001b[0;34m\u001b[0m\u001b[0m\n\u001b[1;32m      2\u001b[0m \u001b[0mround_accuracies_fedavg\u001b[0m\u001b[0;34m,\u001b[0m \u001b[0mround_accuracies_fedavg_adv\u001b[0m \u001b[0;34m=\u001b[0m \u001b[0mrun_fedavg\u001b[0m\u001b[0;34m(\u001b[0m\u001b[0malpha\u001b[0m\u001b[0;34m)\u001b[0m\u001b[0;34m\u001b[0m\u001b[0;34m\u001b[0m\u001b[0m\n\u001b[0;32m----> 3\u001b[0;31m \u001b[0maccuracies_per_alpha\u001b[0m\u001b[0;34m[\u001b[0m\u001b[0malpha\u001b[0m\u001b[0;34m]\u001b[0m\u001b[0;34m.\u001b[0m\u001b[0mappend\u001b[0m\u001b[0;34m(\u001b[0m\u001b[0mround_accuracies_fedavg\u001b[0m\u001b[0;34m)\u001b[0m\u001b[0;34m\u001b[0m\u001b[0;34m\u001b[0m\u001b[0m\n\u001b[0m",
            "\u001b[0;31mKeyError\u001b[0m: 2"
          ]
        }
      ],
      "source": [
        "alpha = 2\n",
        "round_accuracies_fedavg, round_accuracies_fedavg_adv = run_fedavg(alpha)\n",
        "accuracies_per_alpha[alpha].append(round_accuracies_fedavg)"
      ]
    },
    {
      "cell_type": "code",
      "execution_count": null,
      "metadata": {
        "colab": {
          "base_uri": "https://localhost:8080/",
          "height": 564
        },
        "id": "sSRP7OOZEE5b",
        "outputId": "66845168-2f4f-4693-93c4-074ec71ef55a"
      },
      "outputs": [
        {
          "data": {
            "image/png": "[encoded data removed]",
            "text/plain": [
              "<Figure size 1000x600 with 1 Axes>"
            ]
          },
          "metadata": {},
          "output_type": "display_data"
        }
      ],
      "source": [
        "# accuracies_per_alpha[alpha].append(round_accuracies_fedavg)\n",
        "alpha = 2\n",
        "# accuracies = accuracies_per_alpha[alpha]\n",
        "# accuracies_per_alpha[alpha].append(round_accuracies_fedavg,round_accuracies_fedavg_adv)\n",
        "\n",
        "# Extract the FedAvg and FedAvg Adv accuracies\n",
        "plot_round_accuracies_fedavg = round_accuracies_fedavg\n",
        "plot_round_accuracies_fedavg_adv = round_accuracies_fedavg_adv\n",
        "\n",
        "# Number of rounds\n",
        "num_rounds = len(plot_round_accuracies_fedavg)\n",
        "rounds = range(1, num_rounds + 1)\n",
        "\n",
        "# Plot the data\n",
        "plt.figure(figsize=(10, 6))\n",
        "plt.plot(rounds, plot_round_accuracies_fedavg, label='FedAvg', marker='o')\n",
        "plt.plot(rounds, plot_round_accuracies_fedavg_adv, label='FedAvg with Adversarial Feature Alignment', marker='s')\n",
        "\n",
        "# Add labels, title, and legend\n",
        "plt.xlabel(\"Rounds\")\n",
        "plt.ylabel(\"Accuracy\")\n",
        "plt.title(f\"Accuracy vs. Rounds for FedAvg (Alpha={alpha})\")\n",
        "plt.legend()\n",
        "plt.grid(True)\n",
        "plt.show()"
      ]
    },
    {
      "cell_type": "markdown",
      "metadata": {
        "id": "KY1lHLbc0V8B"
      },
      "source": [
        "# SCAFFOLD"
      ]
    },
    {
      "cell_type": "code",
      "execution_count": null,
      "metadata": {
        "id": "se-B7wUD0Xh1"
      },
      "outputs": [],
      "source": [
        "def fedavg_training_new(global_model, train_loaders, num_clients, rounds, epochs, lr, test_loaders, align=None):\n",
        "    round_avg_updates = []\n",
        "    round_accuracies = []\n",
        "    discriminators = {}\n",
        "    global_model = global_model.to(device)\n",
        "\n",
        "    # Initialize control variates\n",
        "    global_control_variate = {name: torch.zeros_like(param) for name, param in global_model.state_dict().items()}\n",
        "    client_control_variates = [\n",
        "        {name: torch.zeros_like(param) for name, param in global_model.state_dict().items()}\n",
        "        for _ in range(num_clients)\n",
        "    ]\n",
        "\n",
        "    for r in tqdm(range(rounds), desc=\"Communication Rounds\", leave=True):\n",
        "        client_updates = []\n",
        "\n",
        "        # Distribute model and collect client updates\n",
        "        for i in tqdm(range(num_clients), desc=f\"Clients Training (Round {r+1})\", leave=False):\n",
        "            if align == \"Adverserial\":\n",
        "                client_id = i\n",
        "                update = local_train_adversarial_scaffold(global_model, train_loaders[i], epochs, lr, client_id, client_control_variates[i], global_control_variate, discriminators)\n",
        "            elif align == \"SCAFFOLD\":\n",
        "                # SCAFFOLD-specific update for local model training\n",
        "                update =             local_train_scaffold(global_model, train_loaders[i], epochs, lr, client_control_variates[i], global_control_variate)\n",
        "            else:\n",
        "                update = local_train(global_model, train_loaders[i], epochs, lr)\n",
        "\n",
        "            # Store the update\n",
        "            client_updates.append(update)\n",
        "\n",
        "        # Average updates from all clients\n",
        "        avg_update = {name: sum(client_update[name] for client_update in client_updates) / num_clients\n",
        "                      for name in global_model.state_dict().keys()}\n",
        "\n",
        "        # Update the global control variate if using SCAFFOLD\n",
        "        if align == \"SCAFFOLD\":\n",
        "            global_control_variate = {name: global_control_variate[name] +\n",
        "                                      (sum(client_control_variates[i][name] for i in range(num_clients)) / num_clients)\n",
        "                                      for name in global_control_variate.keys()}\n",
        "\n",
        "        # Apply averaged updates to global model\n",
        "        for name, param in global_model.state_dict().items():\n",
        "            param.add_(avg_update[name])  # Update the global model in-place\n",
        "\n",
        "        round_avg_updates.append(avg_update)\n",
        "\n",
        "        # Evaluate the global model\n",
        "        global_model.eval()\n",
        "        correct, total = 0, 0\n",
        "        with torch.no_grad():\n",
        "            for test_loader in test_loaders:\n",
        "                for data, labels in test_loader:\n",
        "                    data, labels = data.to(device), labels.to(device)\n",
        "                    outputs = global_model(data)\n",
        "                    _, predicted = outputs.max(1)\n",
        "                    correct += (predicted == labels).sum().item()\n",
        "                    total += labels.size(0)\n",
        "\n",
        "        accuracy = correct / total\n",
        "        round_accuracies.append(accuracy)\n",
        "        tqdm.write(f\"Round {r+1} Accuracy: {accuracy:.4f}\")\n",
        "\n",
        "    return round_avg_updates, round_accuracies\n",
        "\n",
        "\n",
        "def local_train_scaffold(global_model, train_loader, epochs, lr, client_control_variate, global_control_variate):\n",
        "    # Copy the global model to avoid modifying it directly\n",
        "    local_model = deepcopy(global_model)\n",
        "    local_model.load_state_dict(global_model.state_dict())\n",
        "\n",
        "    local_model = local_model.to(device)\n",
        "    global_model = global_model.to(device)\n",
        "\n",
        "    local_model.train()\n",
        "\n",
        "    criterion = nn.CrossEntropyLoss()\n",
        "    optimizer = optim.Adam(local_model.parameters(), lr=lr)\n",
        "\n",
        "    for epoch in range(epochs):\n",
        "        for data, labels in train_loader:\n",
        "            data, labels = data.to(device), labels.to(device)\n",
        "            optimizer.zero_grad()\n",
        "            outputs = local_model(data)\n",
        "            loss = criterion(outputs, labels)\n",
        "            loss.backward()\n",
        "\n",
        "            # Compute gradients (local update)\n",
        "            local_update = {name: param.grad for name, param in local_model.named_parameters()}\n",
        "\n",
        "            # Adjust with control variates\n",
        "            adjusted_update = {\n",
        "                name: local_update[name] - client_control_variate[name] + global_control_variate[name]\n",
        "                for name in local_update.keys()\n",
        "            }\n",
        "\n",
        "            # Apply adjusted gradients\n",
        "            for name, param in local_model.named_parameters():\n",
        "                param.grad = adjusted_update[name]\n",
        "\n",
        "            optimizer.step()\n",
        "\n",
        "    # Compute the overall update: difference between the global model and local model\n",
        "    overall_update = {name: param.data - global_model.state_dict()[name]\n",
        "                      for name, param in local_model.state_dict().items()}\n",
        "\n",
        "    # Update the client control variate based on the local model update\n",
        "    client_control_variate = {\n",
        "        name: overall_update[name] - global_model.state_dict()[name]\n",
        "        for name in overall_update.keys()\n",
        "    }\n",
        "\n",
        "    return overall_update\n",
        "\n",
        "\n",
        "def local_train_adversarial_scaffold(global_model, train_loader, epochs, lr, client_id, client_control_variate, global_control_variate, discriminators):\n",
        "    \"\"\"\n",
        "    Train a local model with adversarial feature matching and scaffold-based updates.\n",
        "\n",
        "    Args:\n",
        "        global_model (nn.Module): The global model to initialize local training.\n",
        "        train_loader (DataLoader): DataLoader for the client's training data.\n",
        "        epochs (int): Number of training epochs.\n",
        "        lr (float): Learning rate.\n",
        "        client_id (int): Unique identifier for the client.\n",
        "        client_control_variate (dict): Control variates for the client.\n",
        "        global_control_variate (dict): Control variates from the global model.\n",
        "        discriminators (dict): Dictionary of discriminators for each client.\n",
        "\n",
        "    Returns:\n",
        "        dict: Dictionary of model updates (local model - global model).\n",
        "    \"\"\"\n",
        "    # Copy the global model to avoid modifying it directly\n",
        "    local_model = deepcopy(global_model)\n",
        "    local_model.load_state_dict(global_model.state_dict())\n",
        "\n",
        "    local_model = local_model.to(device)\n",
        "    global_model = global_model.to(device)\n",
        "\n",
        "    local_model.train()\n",
        "    global_model.eval()  # Ensure the global model remains in evaluation mode\n",
        "\n",
        "    criterion = nn.CrossEntropyLoss()\n",
        "    adv_criterion = nn.MSELoss()  # Loss for adversarial feature matching\n",
        "\n",
        "    # Retrieve the discriminator for this client\n",
        "    if client_id not in discriminators:\n",
        "        # Initialize a new discriminator for this client if not already present\n",
        "        discriminators[client_id] = Discriminator().to(device)  # Adjust input_size to match latent dimensions\n",
        "\n",
        "    discriminator = discriminators[client_id]\n",
        "    d_optimizer = optim.Adam(discriminator.parameters(), lr=lr)\n",
        "    g_optimizer = optim.Adam(local_model.parameters(), lr=lr)\n",
        "\n",
        "    for epoch in range(epochs):\n",
        "        for data, labels in train_loader:\n",
        "            data, labels = data.to(device), labels.to(device)\n",
        "\n",
        "            # Extract latents from both models\n",
        "            global_latents = global_model.get_latents(data).detach()  # Detach to prevent gradient flow\n",
        "            local_latents = local_model.get_latents(data)\n",
        "\n",
        "            # Train Discriminator\n",
        "            discriminator.train()\n",
        "            real_preds = discriminator(global_latents)  # Real latents (from the global model)\n",
        "            fake_preds = discriminator(local_latents.detach())  # Fake latents (from the local model)\n",
        "            real_labels = torch.ones_like(real_preds).to(device)\n",
        "            fake_labels = torch.zeros_like(fake_preds).to(device)\n",
        "\n",
        "            d_loss_real = nn.BCELoss()(real_preds, real_labels)\n",
        "            d_loss_fake = nn.BCELoss()(fake_preds, fake_labels)\n",
        "            d_loss = d_loss_real + d_loss_fake\n",
        "\n",
        "            d_optimizer.zero_grad()\n",
        "            d_loss.backward()\n",
        "            d_optimizer.step()\n",
        "\n",
        "            # Train Local Model (Generator)\n",
        "            discriminator.eval()\n",
        "            fake_preds = discriminator(local_latents)\n",
        "            classification_loss = criterion(local_model(data), labels)\n",
        "            adversarial_loss = -torch.mean(fake_preds)  # Generator tries to fool the discriminator\n",
        "            feature_matching_loss = adv_criterion(local_latents, global_latents)\n",
        "\n",
        "            total_loss = classification_loss + 0.1 * feature_matching_loss + 0.1 * adversarial_loss  # Adjust weights as needed\n",
        "\n",
        "            g_optimizer.zero_grad()\n",
        "            total_loss.backward()\n",
        "\n",
        "            # Apply Scaffold Update: Adjust gradients using control variates\n",
        "            local_update = {name: param.grad for name, param in local_model.named_parameters()}\n",
        "\n",
        "            adjusted_update = {\n",
        "                name: local_update[name] - client_control_variate[name] + global_control_variate[name]\n",
        "                for name in local_update.keys()\n",
        "            }\n",
        "\n",
        "            # Apply adjusted gradients\n",
        "            for name, param in local_model.named_parameters():\n",
        "                param.grad = adjusted_update[name]\n",
        "\n",
        "            g_optimizer.step()\n",
        "\n",
        "    # Compute updates (difference between global and local weights)\n",
        "    overall_update = {name: param.data - global_model.state_dict()[name]\n",
        "                      for name, param in local_model.state_dict().items()}\n",
        "\n",
        "    # Update the client control variate based on the local model update\n",
        "    client_control_variate = {\n",
        "        name: overall_update[name] - global_model.state_dict()[name]\n",
        "        for name in overall_update.keys()\n",
        "    }\n",
        "\n",
        "    return overall_update\n",
        "\n"
      ]
    },
    {
      "cell_type": "code",
      "execution_count": null,
      "metadata": {
        "id": "olyBGWJN0YsB"
      },
      "outputs": [],
      "source": [
        "def run_scaffold(alpha):\n",
        "    round_accuracies_fedavg, round_accuracies_fedavg_adv = 0, 0\n",
        "    train_loaders, test_loaders,_,_ = partition_data(train_images, train_labels, test_images, test_labels, num_clients, alpha, batch_size)\n",
        "\n",
        "    # global_model_fedavg_adv = SimpleCNN()\n",
        "    # _, round_accuracies_fedavg_adv = fedavg_training_new(\n",
        "    #                                       global_model_fedavg_adv,\n",
        "    #                                       train_loaders,\n",
        "    #                                       num_clients,\n",
        "    #                                       rounds=rounds,\n",
        "    #                                       epochs=epochs,\n",
        "    #                                       lr=lr,\n",
        "    #                                       test_loaders=test_loaders,\n",
        "    #                                       align= \"SCAFFOLD\")\n",
        "\n",
        "    global_model_fedavg_sc_adv = SimpleCNN()\n",
        "    _, round_accuracies_fedavg_adv = fedavg_training_new(\n",
        "                                          global_model_fedavg_sc_adv,\n",
        "                                          train_loaders,\n",
        "                                          num_clients,\n",
        "                                          rounds=rounds,\n",
        "                                          epochs=epochs,\n",
        "                                          lr=lr,\n",
        "                                          test_loaders=test_loaders,\n",
        "                                          align= \"Adverserial\")\n",
        "\n",
        "    return round_accuracies_fedavg ,round_accuracies_fedavg_adv"
      ]
    },
    {
      "cell_type": "code",
      "execution_count": null,
      "metadata": {
        "colab": {
          "base_uri": "https://localhost:8080/"
        },
        "id": "B68WL66p0oCr",
        "outputId": "2ee05cbc-1933-4610-a90f-87033a7e07cf"
      },
      "outputs": [
        {
          "name": "stderr",
          "output_type": "stream",
          "text": [
            "Communication Rounds:   0%|          | 0/15 [00:00<?, ?it/s]\n",
            "Clients Training (Round 1):   0%|          | 0/5 [00:00<?, ?it/s]\u001b[A\n",
            "Clients Training (Round 1):  20%|██        | 1/5 [00:10<00:43, 10.86s/it]\u001b[A\n",
            "Clients Training (Round 1):  40%|████      | 2/5 [00:27<00:42, 14.12s/it]\u001b[A\n",
            "Clients Training (Round 1):  60%|██████    | 3/5 [00:36<00:23, 11.91s/it]\u001b[A\n",
            "Clients Training (Round 1):  80%|████████  | 4/5 [00:55<00:14, 14.68s/it]\u001b[A\n",
            "Clients Training (Round 1): 100%|██████████| 5/5 [01:19<00:00, 18.20s/it]\u001b[A\n",
            "Communication Rounds:   7%|▋         | 1/15 [01:20<18:49, 80.67s/it]"
          ]
        },
        {
          "name": "stdout",
          "output_type": "stream",
          "text": [
            "Round 1 Accuracy: 0.0958\n"
          ]
        },
        {
          "name": "stderr",
          "output_type": "stream",
          "text": [
            "\n",
            "Clients Training (Round 2):   0%|          | 0/5 [00:00<?, ?it/s]\u001b[A\n",
            "Clients Training (Round 2):  20%|██        | 1/5 [00:10<00:43, 10.86s/it]\u001b[A\n",
            "Clients Training (Round 2):  40%|████      | 2/5 [00:27<00:42, 14.25s/it]\u001b[A\n",
            "Clients Training (Round 2):  60%|██████    | 3/5 [00:36<00:24, 12.02s/it]\u001b[A\n",
            "Clients Training (Round 2):  80%|████████  | 4/5 [00:55<00:14, 14.75s/it]\u001b[A\n",
            "Clients Training (Round 2): 100%|██████████| 5/5 [01:20<00:00, 18.34s/it]\u001b[A\n",
            "Communication Rounds:  13%|█▎        | 2/15 [02:41<17:33, 81.03s/it]"
          ]
        },
        {
          "name": "stdout",
          "output_type": "stream",
          "text": [
            "Round 2 Accuracy: 0.1554\n"
          ]
        },
        {
          "name": "stderr",
          "output_type": "stream",
          "text": [
            "\n",
            "Clients Training (Round 3):   0%|          | 0/5 [00:00<?, ?it/s]\u001b[A\n",
            "Clients Training (Round 3):  20%|██        | 1/5 [00:10<00:43, 10.97s/it]\u001b[A\n",
            "Clients Training (Round 3):  40%|████      | 2/5 [00:27<00:43, 14.38s/it]\u001b[A\n",
            "Clients Training (Round 3):  60%|██████    | 3/5 [00:37<00:24, 12.13s/it]\u001b[A\n",
            "Clients Training (Round 3):  80%|████████  | 4/5 [00:56<00:14, 14.87s/it]\u001b[A\n",
            "Clients Training (Round 3): 100%|██████████| 5/5 [01:21<00:00, 18.48s/it]\u001b[A\n",
            "Communication Rounds:  20%|██        | 3/15 [04:03<16:17, 81.42s/it]"
          ]
        },
        {
          "name": "stdout",
          "output_type": "stream",
          "text": [
            "Round 3 Accuracy: 0.5934\n"
          ]
        },
        {
          "name": "stderr",
          "output_type": "stream",
          "text": [
            "\n",
            "Clients Training (Round 4):   0%|          | 0/5 [00:00<?, ?it/s]\u001b[A\n",
            "Clients Training (Round 4):  20%|██        | 1/5 [00:11<00:44, 11.05s/it]\u001b[A\n",
            "Clients Training (Round 4):  40%|████      | 2/5 [00:28<00:43, 14.54s/it]\u001b[A\n",
            "Clients Training (Round 4):  60%|██████    | 3/5 [00:37<00:24, 12.31s/it]\u001b[A\n",
            "Clients Training (Round 4):  80%|████████  | 4/5 [00:57<00:15, 15.13s/it]\u001b[A\n",
            "Clients Training (Round 4): 100%|██████████| 5/5 [01:22<00:00, 18.74s/it]\u001b[A\n",
            "Communication Rounds:  27%|██▋       | 4/15 [05:26<15:02, 82.06s/it]"
          ]
        },
        {
          "name": "stdout",
          "output_type": "stream",
          "text": [
            "Round 4 Accuracy: 0.6696\n"
          ]
        },
        {
          "name": "stderr",
          "output_type": "stream",
          "text": [
            "\n",
            "Clients Training (Round 5):   0%|          | 0/5 [00:00<?, ?it/s]\u001b[A\n",
            "Clients Training (Round 5):  20%|██        | 1/5 [00:11<00:44, 11.14s/it]\u001b[A\n",
            "Clients Training (Round 5):  40%|████      | 2/5 [00:28<00:43, 14.61s/it]\u001b[A\n",
            "Clients Training (Round 5):  60%|██████    | 3/5 [00:37<00:24, 12.33s/it]\u001b[A\n",
            "Clients Training (Round 5):  80%|████████  | 4/5 [00:57<00:15, 15.12s/it]\u001b[A\n",
            "Clients Training (Round 5): 100%|██████████| 5/5 [01:22<00:00, 18.76s/it]\u001b[A\n",
            "Communication Rounds:  33%|███▎      | 5/15 [06:50<13:44, 82.45s/it]"
          ]
        },
        {
          "name": "stdout",
          "output_type": "stream",
          "text": [
            "Round 5 Accuracy: 0.6916\n"
          ]
        },
        {
          "name": "stderr",
          "output_type": "stream",
          "text": [
            "\n",
            "Clients Training (Round 6):   0%|          | 0/5 [00:00<?, ?it/s]\u001b[A\n",
            "Clients Training (Round 6):  20%|██        | 1/5 [00:11<00:44, 11.17s/it]\u001b[A\n",
            "Clients Training (Round 6):  40%|████      | 2/5 [00:28<00:43, 14.62s/it]\u001b[A\n",
            "Clients Training (Round 6):  60%|██████    | 3/5 [00:37<00:24, 12.33s/it]\u001b[A\n",
            "Clients Training (Round 6):  80%|████████  | 4/5 [00:57<00:15, 15.10s/it]\u001b[A\n",
            "Clients Training (Round 6): 100%|██████████| 5/5 [01:22<00:00, 18.74s/it]\u001b[A\n",
            "Communication Rounds:  40%|████      | 6/15 [08:13<12:24, 82.69s/it]"
          ]
        },
        {
          "name": "stdout",
          "output_type": "stream",
          "text": [
            "Round 6 Accuracy: 0.7037\n"
          ]
        },
        {
          "name": "stderr",
          "output_type": "stream",
          "text": [
            "\n",
            "Clients Training (Round 7):   0%|          | 0/5 [00:00<?, ?it/s]\u001b[A\n",
            "Clients Training (Round 7):  20%|██        | 1/5 [00:11<00:44, 11.18s/it]\u001b[A\n",
            "Clients Training (Round 7):  40%|████      | 2/5 [00:28<00:43, 14.64s/it]\u001b[A\n",
            "Clients Training (Round 7):  60%|██████    | 3/5 [00:37<00:24, 12.35s/it]\u001b[A\n",
            "Clients Training (Round 7):  80%|████████  | 4/5 [00:57<00:15, 15.12s/it]\u001b[A\n",
            "Clients Training (Round 7): 100%|██████████| 5/5 [01:22<00:00, 18.75s/it]\u001b[A\n",
            "Communication Rounds:  47%|████▋     | 7/15 [09:36<11:02, 82.85s/it]"
          ]
        },
        {
          "name": "stdout",
          "output_type": "stream",
          "text": [
            "Round 7 Accuracy: 0.7028\n"
          ]
        },
        {
          "name": "stderr",
          "output_type": "stream",
          "text": [
            "\n",
            "Clients Training (Round 8):   0%|          | 0/5 [00:00<?, ?it/s]\u001b[A\n",
            "Clients Training (Round 8):  20%|██        | 1/5 [00:11<00:44, 11.16s/it]\u001b[A\n",
            "Clients Training (Round 8):  40%|████      | 2/5 [00:28<00:43, 14.63s/it]\u001b[A\n",
            "Clients Training (Round 8):  60%|██████    | 3/5 [00:37<00:24, 12.33s/it]\u001b[A\n",
            "Clients Training (Round 8):  80%|████████  | 4/5 [00:57<00:15, 15.12s/it]\u001b[A\n",
            "Clients Training (Round 8): 100%|██████████| 5/5 [01:22<00:00, 18.76s/it]\u001b[A\n",
            "Communication Rounds:  53%|█████▎    | 8/15 [10:59<09:40, 82.96s/it]"
          ]
        },
        {
          "name": "stdout",
          "output_type": "stream",
          "text": [
            "Round 8 Accuracy: 0.7101\n"
          ]
        },
        {
          "name": "stderr",
          "output_type": "stream",
          "text": [
            "\n",
            "Clients Training (Round 9):   0%|          | 0/5 [00:00<?, ?it/s]\u001b[A\n",
            "Clients Training (Round 9):  20%|██        | 1/5 [00:11<00:44, 11.16s/it]\u001b[A\n",
            "Clients Training (Round 9):  40%|████      | 2/5 [00:28<00:43, 14.62s/it]\u001b[A\n",
            "Clients Training (Round 9):  60%|██████    | 3/5 [00:37<00:24, 12.33s/it]\u001b[A\n",
            "Clients Training (Round 9):  80%|████████  | 4/5 [00:57<00:15, 15.10s/it]\u001b[A\n",
            "Clients Training (Round 9): 100%|██████████| 5/5 [01:22<00:00, 18.74s/it]\u001b[A\n",
            "Communication Rounds:  60%|██████    | 9/15 [12:22<08:18, 83.00s/it]"
          ]
        },
        {
          "name": "stdout",
          "output_type": "stream",
          "text": [
            "Round 9 Accuracy: 0.7094\n"
          ]
        },
        {
          "name": "stderr",
          "output_type": "stream",
          "text": [
            "\n",
            "Clients Training (Round 10):   0%|          | 0/5 [00:00<?, ?it/s]\u001b[A\n",
            "Clients Training (Round 10):  20%|██        | 1/5 [00:11<00:44, 11.16s/it]\u001b[A\n",
            "Clients Training (Round 10):  40%|████      | 2/5 [00:28<00:43, 14.60s/it]\u001b[A\n",
            "Clients Training (Round 10):  60%|██████    | 3/5 [00:37<00:24, 12.31s/it]\u001b[A\n",
            "Clients Training (Round 10):  80%|████████  | 4/5 [00:57<00:15, 15.07s/it]\u001b[A\n",
            "Clients Training (Round 10): 100%|██████████| 5/5 [01:22<00:00, 18.68s/it]\u001b[A\n",
            "Communication Rounds:  67%|██████▋   | 10/15 [13:45<06:54, 82.98s/it]"
          ]
        },
        {
          "name": "stdout",
          "output_type": "stream",
          "text": [
            "Round 10 Accuracy: 0.7105\n"
          ]
        },
        {
          "name": "stderr",
          "output_type": "stream",
          "text": [
            "\n",
            "Clients Training (Round 11):   0%|          | 0/5 [00:00<?, ?it/s]\u001b[A\n",
            "Clients Training (Round 11):  20%|██        | 1/5 [00:11<00:44, 11.15s/it]\u001b[A\n",
            "Clients Training (Round 11):  40%|████      | 2/5 [00:28<00:43, 14.64s/it]\u001b[A\n",
            "Clients Training (Round 11):  60%|██████    | 3/5 [00:37<00:24, 12.34s/it]\u001b[A\n",
            "Clients Training (Round 11):  80%|████████  | 4/5 [00:57<00:15, 15.11s/it]\u001b[A\n",
            "Clients Training (Round 11): 100%|██████████| 5/5 [01:22<00:00, 18.74s/it]\u001b[A\n",
            "Communication Rounds:  73%|███████▎  | 11/15 [15:08<05:32, 83.02s/it]"
          ]
        },
        {
          "name": "stdout",
          "output_type": "stream",
          "text": [
            "Round 11 Accuracy: 0.7144\n"
          ]
        },
        {
          "name": "stderr",
          "output_type": "stream",
          "text": [
            "\n",
            "Clients Training (Round 12):   0%|          | 0/5 [00:00<?, ?it/s]\u001b[A\n",
            "Clients Training (Round 12):  20%|██        | 1/5 [00:11<00:44, 11.15s/it]\u001b[A\n",
            "Clients Training (Round 12):  40%|████      | 2/5 [00:28<00:43, 14.62s/it]\u001b[A\n",
            "Clients Training (Round 12):  60%|██████    | 3/5 [00:37<00:24, 12.33s/it]\u001b[A\n",
            "Clients Training (Round 12):  80%|████████  | 4/5 [00:57<00:15, 15.11s/it]\u001b[A\n",
            "Clients Training (Round 12): 100%|██████████| 5/5 [01:22<00:00, 18.74s/it]\u001b[A\n",
            "Communication Rounds:  80%|████████  | 12/15 [16:31<04:09, 83.04s/it]"
          ]
        },
        {
          "name": "stdout",
          "output_type": "stream",
          "text": [
            "Round 12 Accuracy: 0.7242\n"
          ]
        },
        {
          "name": "stderr",
          "output_type": "stream",
          "text": [
            "\n",
            "Clients Training (Round 13):   0%|          | 0/5 [00:00<?, ?it/s]\u001b[A\n",
            "Clients Training (Round 13):  20%|██        | 1/5 [00:11<00:44, 11.16s/it]\u001b[A\n",
            "Clients Training (Round 13):  40%|████      | 2/5 [00:28<00:43, 14.60s/it]\u001b[A\n",
            "Clients Training (Round 13):  60%|██████    | 3/5 [00:37<00:24, 12.31s/it]\u001b[A\n",
            "Clients Training (Round 13):  80%|████████  | 4/5 [00:57<00:15, 15.07s/it]\u001b[A\n",
            "Clients Training (Round 13): 100%|██████████| 5/5 [01:22<00:00, 18.71s/it]\u001b[A\n",
            "Communication Rounds:  87%|████████▋ | 13/15 [17:54<02:46, 83.02s/it]"
          ]
        },
        {
          "name": "stdout",
          "output_type": "stream",
          "text": [
            "Round 13 Accuracy: 0.7154\n"
          ]
        },
        {
          "name": "stderr",
          "output_type": "stream",
          "text": [
            "\n",
            "Clients Training (Round 14):   0%|          | 0/5 [00:00<?, ?it/s]\u001b[A\n",
            "Clients Training (Round 14):  20%|██        | 1/5 [00:11<00:44, 11.14s/it]\u001b[A\n",
            "Clients Training (Round 14):  40%|████      | 2/5 [00:28<00:43, 14.59s/it]\u001b[A\n",
            "Clients Training (Round 14):  60%|██████    | 3/5 [00:37<00:24, 12.31s/it]\u001b[A\n",
            "Clients Training (Round 14):  80%|████████  | 4/5 [00:57<00:15, 15.08s/it]\u001b[A\n",
            "Clients Training (Round 14): 100%|██████████| 5/5 [01:22<00:00, 18.72s/it]\u001b[A\n",
            "Communication Rounds:  93%|█████████▎| 14/15 [19:17<01:23, 83.01s/it]"
          ]
        },
        {
          "name": "stdout",
          "output_type": "stream",
          "text": [
            "Round 14 Accuracy: 0.7114\n"
          ]
        },
        {
          "name": "stderr",
          "output_type": "stream",
          "text": [
            "\n",
            "Clients Training (Round 15):   0%|          | 0/5 [00:00<?, ?it/s]\u001b[A\n",
            "Clients Training (Round 15):  20%|██        | 1/5 [00:11<00:44, 11.14s/it]\u001b[A\n",
            "Clients Training (Round 15):  40%|████      | 2/5 [00:28<00:43, 14.59s/it]\u001b[A\n",
            "Clients Training (Round 15):  60%|██████    | 3/5 [00:37<00:24, 12.30s/it]\u001b[A\n",
            "Clients Training (Round 15):  80%|████████  | 4/5 [00:57<00:15, 15.08s/it]\u001b[A\n",
            "Clients Training (Round 15): 100%|██████████| 5/5 [01:22<00:00, 18.72s/it]\u001b[A\n",
            "Communication Rounds: 100%|██████████| 15/15 [20:40<00:00, 82.71s/it]"
          ]
        },
        {
          "name": "stdout",
          "output_type": "stream",
          "text": [
            "Round 15 Accuracy: 0.7231\n"
          ]
        },
        {
          "name": "stderr",
          "output_type": "stream",
          "text": [
            "\n"
          ]
        }
      ],
      "source": [
        "alpha = 0.5\n",
        "round_accuracies_fedavg, round_accuracies_fedavg_adv = run_scaffold(alpha)\n",
        "accuracies_per_alpha[alpha].append(round_accuracies_fedavg)"
      ]
    },
    {
      "cell_type": "code",
      "execution_count": null,
      "metadata": {
        "colab": {
          "base_uri": "https://localhost:8080/"
        },
        "id": "6HsIGgPTWusv",
        "outputId": "18ff87c5-6c55-4ef9-a6a7-4b38b7b1531a"
      },
      "outputs": [
        {
          "name": "stderr",
          "output_type": "stream",
          "text": [
            "Communication Rounds:   0%|          | 0/15 [00:00<?, ?it/s]\n",
            "Clients Training (Round 1):   0%|          | 0/5 [00:00<?, ?it/s]\u001b[A\n",
            "Clients Training (Round 1):  20%|██        | 1/5 [00:04<00:18,  4.68s/it]\u001b[A\n",
            "Clients Training (Round 1):  40%|████      | 2/5 [00:11<00:18,  6.12s/it]\u001b[A\n",
            "Clients Training (Round 1):  60%|██████    | 3/5 [00:15<00:10,  5.16s/it]\u001b[A\n",
            "Clients Training (Round 1):  80%|████████  | 4/5 [00:24<00:06,  6.36s/it]\u001b[A\n",
            "Clients Training (Round 1): 100%|██████████| 5/5 [00:34<00:00,  8.01s/it]\u001b[A\n",
            "Communication Rounds:   7%|▋         | 1/15 [00:35<08:19, 35.70s/it]"
          ]
        },
        {
          "name": "stdout",
          "output_type": "stream",
          "text": [
            "Round 1 Accuracy: 0.0951\n"
          ]
        },
        {
          "name": "stderr",
          "output_type": "stream",
          "text": [
            "\n",
            "Clients Training (Round 2):   0%|          | 0/5 [00:00<?, ?it/s]\u001b[A\n",
            "Clients Training (Round 2):  20%|██        | 1/5 [00:04<00:19,  4.79s/it]\u001b[A\n",
            "Clients Training (Round 2):  40%|████      | 2/5 [00:12<00:18,  6.32s/it]\u001b[A\n",
            "Clients Training (Round 2):  60%|██████    | 3/5 [00:16<00:10,  5.30s/it]\u001b[A\n",
            "Clients Training (Round 2):  80%|████████  | 4/5 [00:24<00:06,  6.44s/it]\u001b[A\n",
            "Clients Training (Round 2): 100%|██████████| 5/5 [00:35<00:00,  7.95s/it]\u001b[A\n",
            "Communication Rounds:  13%|█▎        | 2/15 [01:11<07:44, 35.76s/it]"
          ]
        },
        {
          "name": "stdout",
          "output_type": "stream",
          "text": [
            "Round 2 Accuracy: 0.2149\n"
          ]
        },
        {
          "name": "stderr",
          "output_type": "stream",
          "text": [
            "\n",
            "Clients Training (Round 3):   0%|          | 0/5 [00:00<?, ?it/s]\u001b[A\n",
            "Clients Training (Round 3):  20%|██        | 1/5 [00:04<00:18,  4.71s/it]\u001b[A\n",
            "Clients Training (Round 3):  40%|████      | 2/5 [00:11<00:18,  6.18s/it]\u001b[A\n",
            "Clients Training (Round 3):  60%|██████    | 3/5 [00:15<00:10,  5.21s/it]\u001b[A\n",
            "Clients Training (Round 3):  80%|████████  | 4/5 [00:24<00:06,  6.39s/it]\u001b[A\n",
            "Clients Training (Round 3): 100%|██████████| 5/5 [00:34<00:00,  7.94s/it]\u001b[A\n",
            "Communication Rounds:  20%|██        | 3/15 [01:47<07:08, 35.68s/it]"
          ]
        },
        {
          "name": "stdout",
          "output_type": "stream",
          "text": [
            "Round 3 Accuracy: 0.5747\n"
          ]
        },
        {
          "name": "stderr",
          "output_type": "stream",
          "text": [
            "\n",
            "Clients Training (Round 4):   0%|          | 0/5 [00:00<?, ?it/s]\u001b[A\n",
            "Clients Training (Round 4):  20%|██        | 1/5 [00:04<00:19,  4.76s/it]\u001b[A\n",
            "Clients Training (Round 4):  40%|████      | 2/5 [00:12<00:18,  6.24s/it]\u001b[A\n",
            "Clients Training (Round 4):  60%|██████    | 3/5 [00:16<00:10,  5.25s/it]\u001b[A\n",
            "Clients Training (Round 4):  80%|████████  | 4/5 [00:24<00:06,  6.44s/it]\u001b[A\n",
            "Clients Training (Round 4): 100%|██████████| 5/5 [00:35<00:00,  7.97s/it]\u001b[A\n",
            "Communication Rounds:  27%|██▋       | 4/15 [02:22<06:32, 35.72s/it]"
          ]
        },
        {
          "name": "stdout",
          "output_type": "stream",
          "text": [
            "Round 4 Accuracy: 0.6814\n"
          ]
        },
        {
          "name": "stderr",
          "output_type": "stream",
          "text": [
            "\n",
            "Clients Training (Round 5):   0%|          | 0/5 [00:00<?, ?it/s]\u001b[A\n",
            "Clients Training (Round 5):  20%|██        | 1/5 [00:04<00:18,  4.74s/it]\u001b[A\n",
            "Clients Training (Round 5):  40%|████      | 2/5 [00:11<00:18,  6.21s/it]\u001b[A\n",
            "Clients Training (Round 5):  60%|██████    | 3/5 [00:16<00:10,  5.23s/it]\u001b[A\n",
            "Clients Training (Round 5):  80%|████████  | 4/5 [00:24<00:06,  6.41s/it]\u001b[A\n",
            "Clients Training (Round 5): 100%|██████████| 5/5 [00:34<00:00,  7.96s/it]\u001b[A\n",
            "Communication Rounds:  33%|███▎      | 5/15 [02:58<05:57, 35.72s/it]"
          ]
        },
        {
          "name": "stdout",
          "output_type": "stream",
          "text": [
            "Round 5 Accuracy: 0.6951\n"
          ]
        },
        {
          "name": "stderr",
          "output_type": "stream",
          "text": [
            "\n",
            "Clients Training (Round 6):   0%|          | 0/5 [00:00<?, ?it/s]\u001b[A\n",
            "Clients Training (Round 6):  20%|██        | 1/5 [00:04<00:18,  4.75s/it]\u001b[A\n",
            "Clients Training (Round 6):  40%|████      | 2/5 [00:11<00:18,  6.21s/it]\u001b[A\n",
            "Clients Training (Round 6):  60%|██████    | 3/5 [00:16<00:10,  5.24s/it]\u001b[A\n",
            "Clients Training (Round 6):  80%|████████  | 4/5 [00:24<00:06,  6.42s/it]\u001b[A\n",
            "Clients Training (Round 6): 100%|██████████| 5/5 [00:35<00:00,  7.97s/it]\u001b[A\n",
            "Communication Rounds:  40%|████      | 6/15 [03:34<05:21, 35.73s/it]"
          ]
        },
        {
          "name": "stdout",
          "output_type": "stream",
          "text": [
            "Round 6 Accuracy: 0.7037\n"
          ]
        },
        {
          "name": "stderr",
          "output_type": "stream",
          "text": [
            "\n",
            "Clients Training (Round 7):   0%|          | 0/5 [00:00<?, ?it/s]\u001b[A\n",
            "Clients Training (Round 7):  20%|██        | 1/5 [00:04<00:19,  4.75s/it]\u001b[A\n",
            "Clients Training (Round 7):  40%|████      | 2/5 [00:12<00:18,  6.22s/it]\u001b[A\n",
            "Clients Training (Round 7):  60%|██████    | 3/5 [00:16<00:10,  5.25s/it]\u001b[A\n",
            "Clients Training (Round 7):  80%|████████  | 4/5 [00:24<00:06,  6.43s/it]\u001b[A\n",
            "Clients Training (Round 7): 100%|██████████| 5/5 [00:35<00:00,  7.97s/it]\u001b[A\n",
            "Communication Rounds:  47%|████▋     | 7/15 [04:10<04:46, 35.76s/it]"
          ]
        },
        {
          "name": "stdout",
          "output_type": "stream",
          "text": [
            "Round 7 Accuracy: 0.7143\n"
          ]
        },
        {
          "name": "stderr",
          "output_type": "stream",
          "text": [
            "\n",
            "Clients Training (Round 8):   0%|          | 0/5 [00:00<?, ?it/s]\u001b[A\n",
            "Clients Training (Round 8):  20%|██        | 1/5 [00:04<00:18,  4.75s/it]\u001b[A\n",
            "Clients Training (Round 8):  40%|████      | 2/5 [00:12<00:18,  6.22s/it]\u001b[A\n",
            "Clients Training (Round 8):  60%|██████    | 3/5 [00:16<00:10,  5.24s/it]\u001b[A\n",
            "Clients Training (Round 8):  80%|████████  | 4/5 [00:24<00:06,  6.42s/it]\u001b[A\n",
            "Clients Training (Round 8): 100%|██████████| 5/5 [00:35<00:00,  7.97s/it]\u001b[A\n",
            "Communication Rounds:  53%|█████▎    | 8/15 [04:45<04:10, 35.77s/it]"
          ]
        },
        {
          "name": "stdout",
          "output_type": "stream",
          "text": [
            "Round 8 Accuracy: 0.7162\n"
          ]
        },
        {
          "name": "stderr",
          "output_type": "stream",
          "text": [
            "\n",
            "Clients Training (Round 9):   0%|          | 0/5 [00:00<?, ?it/s]\u001b[A\n",
            "Clients Training (Round 9):  20%|██        | 1/5 [00:04<00:18,  4.74s/it]\u001b[A\n",
            "Clients Training (Round 9):  40%|████      | 2/5 [00:11<00:18,  6.20s/it]\u001b[A\n",
            "Clients Training (Round 9):  60%|██████    | 3/5 [00:16<00:10,  5.23s/it]\u001b[A\n",
            "Clients Training (Round 9):  80%|████████  | 4/5 [00:24<00:06,  6.41s/it]\u001b[A\n",
            "Clients Training (Round 9): 100%|██████████| 5/5 [00:34<00:00,  7.95s/it]\u001b[A\n",
            "Communication Rounds:  60%|██████    | 9/15 [05:21<03:34, 35.74s/it]"
          ]
        },
        {
          "name": "stdout",
          "output_type": "stream",
          "text": [
            "Round 9 Accuracy: 0.7212\n"
          ]
        },
        {
          "name": "stderr",
          "output_type": "stream",
          "text": [
            "\n",
            "Clients Training (Round 10):   0%|          | 0/5 [00:00<?, ?it/s]\u001b[A\n",
            "Clients Training (Round 10):  20%|██        | 1/5 [00:04<00:18,  4.74s/it]\u001b[A\n",
            "Clients Training (Round 10):  40%|████      | 2/5 [00:11<00:18,  6.20s/it]\u001b[A\n",
            "Clients Training (Round 10):  60%|██████    | 3/5 [00:16<00:10,  5.23s/it]\u001b[A\n",
            "Clients Training (Round 10):  80%|████████  | 4/5 [00:24<00:06,  6.41s/it]\u001b[A\n",
            "Clients Training (Round 10): 100%|██████████| 5/5 [00:34<00:00,  7.96s/it]\u001b[A\n",
            "Communication Rounds:  67%|██████▋   | 10/15 [05:57<02:58, 35.73s/it]"
          ]
        },
        {
          "name": "stdout",
          "output_type": "stream",
          "text": [
            "Round 10 Accuracy: 0.7208\n"
          ]
        },
        {
          "name": "stderr",
          "output_type": "stream",
          "text": [
            "\n",
            "Clients Training (Round 11):   0%|          | 0/5 [00:00<?, ?it/s]\u001b[A\n",
            "Clients Training (Round 11):  20%|██        | 1/5 [00:04<00:18,  4.74s/it]\u001b[A\n",
            "Clients Training (Round 11):  40%|████      | 2/5 [00:11<00:18,  6.20s/it]\u001b[A\n",
            "Clients Training (Round 11):  60%|██████    | 3/5 [00:16<00:10,  5.23s/it]\u001b[A\n",
            "Clients Training (Round 11):  80%|████████  | 4/5 [00:24<00:06,  6.42s/it]\u001b[A\n",
            "Clients Training (Round 11): 100%|██████████| 5/5 [00:34<00:00,  7.97s/it]\u001b[A\n",
            "Communication Rounds:  73%|███████▎  | 11/15 [06:33<02:22, 35.72s/it]"
          ]
        },
        {
          "name": "stdout",
          "output_type": "stream",
          "text": [
            "Round 11 Accuracy: 0.7186\n"
          ]
        },
        {
          "name": "stderr",
          "output_type": "stream",
          "text": [
            "\n",
            "Clients Training (Round 12):   0%|          | 0/5 [00:00<?, ?it/s]\u001b[A\n",
            "Clients Training (Round 12):  20%|██        | 1/5 [00:04<00:19,  4.76s/it]\u001b[A\n",
            "Clients Training (Round 12):  40%|████      | 2/5 [00:12<00:18,  6.22s/it]\u001b[A\n",
            "Clients Training (Round 12):  60%|██████    | 3/5 [00:16<00:10,  5.25s/it]\u001b[A\n",
            "Clients Training (Round 12):  80%|████████  | 4/5 [00:24<00:06,  6.43s/it]\u001b[A\n",
            "Clients Training (Round 12): 100%|██████████| 5/5 [00:35<00:00,  7.98s/it]\u001b[A\n",
            "Communication Rounds:  80%|████████  | 12/15 [07:08<01:47, 35.75s/it]"
          ]
        },
        {
          "name": "stdout",
          "output_type": "stream",
          "text": [
            "Round 12 Accuracy: 0.7249\n"
          ]
        },
        {
          "name": "stderr",
          "output_type": "stream",
          "text": [
            "\n",
            "Clients Training (Round 13):   0%|          | 0/5 [00:00<?, ?it/s]\u001b[A\n",
            "Clients Training (Round 13):  20%|██        | 1/5 [00:04<00:18,  4.75s/it]\u001b[A\n",
            "Clients Training (Round 13):  40%|████      | 2/5 [00:11<00:18,  6.22s/it]\u001b[A\n",
            "Clients Training (Round 13):  60%|██████    | 3/5 [00:16<00:10,  5.24s/it]\u001b[A\n",
            "Clients Training (Round 13):  80%|████████  | 4/5 [00:24<00:06,  6.42s/it]\u001b[A\n",
            "Clients Training (Round 13): 100%|██████████| 5/5 [00:35<00:00,  7.96s/it]\u001b[A\n",
            "Communication Rounds:  87%|████████▋ | 13/15 [07:44<01:11, 35.74s/it]"
          ]
        },
        {
          "name": "stdout",
          "output_type": "stream",
          "text": [
            "Round 13 Accuracy: 0.7270\n"
          ]
        },
        {
          "name": "stderr",
          "output_type": "stream",
          "text": [
            "\n",
            "Clients Training (Round 14):   0%|          | 0/5 [00:00<?, ?it/s]\u001b[A\n",
            "Clients Training (Round 14):  20%|██        | 1/5 [00:04<00:18,  4.74s/it]\u001b[A\n",
            "Clients Training (Round 14):  40%|████      | 2/5 [00:11<00:18,  6.22s/it]\u001b[A\n",
            "Clients Training (Round 14):  60%|██████    | 3/5 [00:16<00:10,  5.24s/it]\u001b[A\n",
            "Clients Training (Round 14):  80%|████████  | 4/5 [00:24<00:06,  6.42s/it]\u001b[A\n",
            "Clients Training (Round 14): 100%|██████████| 5/5 [00:35<00:00,  7.97s/it]\u001b[A\n",
            "Communication Rounds:  93%|█████████▎| 14/15 [08:20<00:35, 35.75s/it]"
          ]
        },
        {
          "name": "stdout",
          "output_type": "stream",
          "text": [
            "Round 14 Accuracy: 0.7210\n"
          ]
        },
        {
          "name": "stderr",
          "output_type": "stream",
          "text": [
            "\n",
            "Clients Training (Round 15):   0%|          | 0/5 [00:00<?, ?it/s]\u001b[A\n",
            "Clients Training (Round 15):  20%|██        | 1/5 [00:04<00:19,  4.75s/it]\u001b[A\n",
            "Clients Training (Round 15):  40%|████      | 2/5 [00:11<00:18,  6.21s/it]\u001b[A\n",
            "Clients Training (Round 15):  60%|██████    | 3/5 [00:16<00:10,  5.23s/it]\u001b[A\n",
            "Clients Training (Round 15):  80%|████████  | 4/5 [00:24<00:06,  6.42s/it]\u001b[A\n",
            "Clients Training (Round 15): 100%|██████████| 5/5 [00:34<00:00,  7.95s/it]\u001b[A\n",
            "Communication Rounds: 100%|██████████| 15/15 [08:56<00:00, 35.74s/it]"
          ]
        },
        {
          "name": "stdout",
          "output_type": "stream",
          "text": [
            "Round 15 Accuracy: 0.7249\n"
          ]
        },
        {
          "name": "stderr",
          "output_type": "stream",
          "text": [
            "\n"
          ]
        }
      ],
      "source": [
        "def run_scaffold_new(alpha):\n",
        "    round_accuracies_fedavg, round_accuracies_fedavg_adv = 0, 0\n",
        "    train_loaders, test_loaders,_,_ = partition_data(train_images, train_labels, test_images, test_labels, num_clients, alpha, batch_size)\n",
        "\n",
        "    global_model_fedavg_adv = SimpleCNN()\n",
        "    _, round_accuracies_fedavg_adv = fedavg_training_new(\n",
        "                                          global_model_fedavg_adv,\n",
        "                                          train_loaders,\n",
        "                                          num_clients,\n",
        "                                          rounds=rounds,\n",
        "                                          epochs=epochs,\n",
        "                                          lr=lr,\n",
        "                                          test_loaders=test_loaders,\n",
        "                                          align= \"SCAFFOLD\")\n",
        "\n",
        "    # global_model_fedavg_sc_adv = SimpleCNN()\n",
        "    # _, round_accuracies_fedavg_adv = fedavg_training_new(\n",
        "    #                                       global_model_fedavg_sc_adv,\n",
        "    #                                       train_loaders,\n",
        "    #                                       num_clients,\n",
        "    #                                       rounds=rounds,\n",
        "    #                                       epochs=epochs,\n",
        "    #                                       lr=lr,\n",
        "    #                                       test_loaders=test_loaders,\n",
        "    #                                       align= \"Adverserial\")\n",
        "\n",
        "    return round_accuracies_fedavg ,round_accuracies_fedavg_adv\n",
        "\n",
        "alpha = 0.5\n",
        "round_accuracies_fedavg_new, round_accuracies_fedavg_adv_new = run_scaffold_new(alpha)\n",
        "# accuracies_per_alpha[alpha].append(round_accuracies_fedavg)"
      ]
    },
    {
      "cell_type": "code",
      "execution_count": null,
      "metadata": {
        "colab": {
          "base_uri": "https://localhost:8080/",
          "height": 564
        },
        "id": "uMYLveuVaVaX",
        "outputId": "0ab10e16-a042-455d-8285-2fc474cd4edf"
      },
      "outputs": [
        {
          "data": {
            "image/png": "[encoded data removed]",
            "text/plain": [
              "<Figure size 1000x600 with 1 Axes>"
            ]
          },
          "metadata": {},
          "output_type": "display_data"
        }
      ],
      "source": [
        "# accuracies_per_alpha[alpha].append(round_accuracies_fedavg)\n",
        "alpha = 0.5\n",
        "# accuracies = accuracies_per_alpha[alpha]\n",
        "# accuracies_per_alpha[alpha].append(round_accuracies_fedavg,round_accuracies_fedavg_adv)\n",
        "\n",
        "# Extract the FedAvg and FedAvg Adv accuracies\n",
        "plot_round_accuracies_fedavg = round_accuracies_fedavg_adv\n",
        "plot_round_accuracies_fedavg_adv = round_accuracies_fedavg_adv_new\n",
        "\n",
        "# Number of rounds\n",
        "num_rounds = len(plot_round_accuracies_fedavg)\n",
        "rounds = range(1, num_rounds + 1)\n",
        "\n",
        "# Plot the data\n",
        "plt.figure(figsize=(10, 6))\n",
        "plt.plot(rounds, plot_round_accuracies_fedavg, label='FedAvg', marker='o')\n",
        "plt.plot(rounds, plot_round_accuracies_fedavg_adv, label='FedAvg with Adversarial Feature Alignment', marker='s')\n",
        "\n",
        "# Add labels, title, and legend\n",
        "plt.xlabel(\"Rounds\")\n",
        "plt.ylabel(\"Accuracy\")\n",
        "plt.title(f\"Accuracy vs. Rounds for FedAvg (Alpha={alpha})\")\n",
        "plt.legend()\n",
        "plt.grid(True)\n",
        "plt.show()"
      ]
    },
    {
      "cell_type": "code",
      "execution_count": null,
      "metadata": {
        "colab": {
          "base_uri": "https://localhost:8080/"
        },
        "id": "OiR00C-y6au8",
        "outputId": "6a39c1f0-1a63-4946-cb1b-1edb07969edf"
      },
      "outputs": [
        {
          "name": "stderr",
          "output_type": "stream",
          "text": [
            "Communication Rounds:   0%|          | 0/15 [00:00<?, ?it/s]\n",
            "Clients Training (Round 1):   0%|          | 0/5 [00:00<?, ?it/s]\u001b[A\n",
            "Clients Training (Round 1):  20%|██        | 1/5 [00:05<00:20,  5.17s/it]\u001b[A\n",
            "Clients Training (Round 1):  40%|████      | 2/5 [00:12<00:20,  6.73s/it]\u001b[A\n",
            "Clients Training (Round 1):  60%|██████    | 3/5 [00:19<00:13,  6.62s/it]\u001b[A\n",
            "Clients Training (Round 1):  80%|████████  | 4/5 [00:26<00:06,  6.66s/it]\u001b[A\n",
            "Clients Training (Round 1): 100%|██████████| 5/5 [00:34<00:00,  7.25s/it]\u001b[A\n",
            "Communication Rounds:   7%|▋         | 1/15 [00:35<08:16, 35.45s/it]"
          ]
        },
        {
          "name": "stdout",
          "output_type": "stream",
          "text": [
            "Round 1 Accuracy: 0.0979\n"
          ]
        },
        {
          "name": "stderr",
          "output_type": "stream",
          "text": [
            "\n",
            "Clients Training (Round 2):   0%|          | 0/5 [00:00<?, ?it/s]\u001b[A\n",
            "Clients Training (Round 2):  20%|██        | 1/5 [00:04<00:19,  4.84s/it]\u001b[A\n",
            "Clients Training (Round 2):  40%|████      | 2/5 [00:12<00:20,  6.72s/it]\u001b[A\n",
            "Clients Training (Round 2):  60%|██████    | 3/5 [00:19<00:13,  6.71s/it]\u001b[A\n",
            "Clients Training (Round 2):  80%|████████  | 4/5 [00:26<00:06,  6.81s/it]\u001b[A\n",
            "Clients Training (Round 2): 100%|██████████| 5/5 [00:35<00:00,  7.50s/it]\u001b[A\n",
            "Communication Rounds:  13%|█▎        | 2/15 [01:11<07:45, 35.79s/it]"
          ]
        },
        {
          "name": "stdout",
          "output_type": "stream",
          "text": [
            "Round 2 Accuracy: 0.3957\n"
          ]
        },
        {
          "name": "stderr",
          "output_type": "stream",
          "text": [
            "\n",
            "Clients Training (Round 3):   0%|          | 0/5 [00:00<?, ?it/s]\u001b[A\n",
            "Clients Training (Round 3):  20%|██        | 1/5 [00:04<00:19,  4.96s/it]\u001b[A\n",
            "Clients Training (Round 3):  40%|████      | 2/5 [00:13<00:20,  6.85s/it]\u001b[A\n",
            "Clients Training (Round 3):  60%|██████    | 3/5 [00:19<00:13,  6.80s/it]\u001b[A\n",
            "Clients Training (Round 3):  80%|████████  | 4/5 [00:26<00:06,  6.84s/it]\u001b[A\n",
            "Clients Training (Round 3): 100%|██████████| 5/5 [00:35<00:00,  7.42s/it]\u001b[A\n",
            "Communication Rounds:  20%|██        | 3/15 [01:47<07:10, 35.90s/it]"
          ]
        },
        {
          "name": "stdout",
          "output_type": "stream",
          "text": [
            "Round 3 Accuracy: 0.6464\n"
          ]
        },
        {
          "name": "stderr",
          "output_type": "stream",
          "text": [
            "\n",
            "Clients Training (Round 4):   0%|          | 0/5 [00:00<?, ?it/s]\u001b[A\n",
            "Clients Training (Round 4):  20%|██        | 1/5 [00:04<00:19,  4.90s/it]\u001b[A\n",
            "Clients Training (Round 4):  40%|████      | 2/5 [00:12<00:20,  6.78s/it]\u001b[A\n",
            "Clients Training (Round 4):  60%|██████    | 3/5 [00:19<00:13,  6.74s/it]\u001b[A\n",
            "Clients Training (Round 4):  80%|████████  | 4/5 [00:26<00:06,  6.81s/it]\u001b[A\n",
            "Clients Training (Round 4): 100%|██████████| 5/5 [00:35<00:00,  7.41s/it]\u001b[A\n",
            "Communication Rounds:  27%|██▋       | 4/15 [02:23<06:34, 35.86s/it]"
          ]
        },
        {
          "name": "stdout",
          "output_type": "stream",
          "text": [
            "Round 4 Accuracy: 0.7032\n"
          ]
        },
        {
          "name": "stderr",
          "output_type": "stream",
          "text": [
            "\n",
            "Clients Training (Round 5):   0%|          | 0/5 [00:00<?, ?it/s]\u001b[A\n",
            "Clients Training (Round 5):  20%|██        | 1/5 [00:04<00:19,  4.93s/it]\u001b[A\n",
            "Clients Training (Round 5):  40%|████      | 2/5 [00:13<00:20,  6.82s/it]\u001b[A\n",
            "Clients Training (Round 5):  60%|██████    | 3/5 [00:19<00:13,  6.79s/it]\u001b[A\n",
            "Clients Training (Round 5):  80%|████████  | 4/5 [00:26<00:06,  6.85s/it]\u001b[A\n",
            "Clients Training (Round 5): 100%|██████████| 5/5 [00:35<00:00,  7.45s/it]\u001b[A\n",
            "Communication Rounds:  33%|███▎      | 5/15 [02:59<05:59, 35.91s/it]"
          ]
        },
        {
          "name": "stdout",
          "output_type": "stream",
          "text": [
            "Round 5 Accuracy: 0.7198\n"
          ]
        },
        {
          "name": "stderr",
          "output_type": "stream",
          "text": [
            "\n",
            "Clients Training (Round 6):   0%|          | 0/5 [00:00<?, ?it/s]\u001b[A\n",
            "Clients Training (Round 6):  20%|██        | 1/5 [00:04<00:19,  4.93s/it]\u001b[A\n",
            "Clients Training (Round 6):  40%|████      | 2/5 [00:13<00:20,  6.83s/it]\u001b[A\n",
            "Clients Training (Round 6):  60%|██████    | 3/5 [00:19<00:13,  6.79s/it]\u001b[A\n",
            "Clients Training (Round 6):  80%|████████  | 4/5 [00:26<00:06,  6.85s/it]\u001b[A\n",
            "Clients Training (Round 6): 100%|██████████| 5/5 [00:35<00:00,  7.44s/it]\u001b[A\n",
            "Communication Rounds:  40%|████      | 6/15 [03:35<05:23, 35.94s/it]"
          ]
        },
        {
          "name": "stdout",
          "output_type": "stream",
          "text": [
            "Round 6 Accuracy: 0.7295\n"
          ]
        },
        {
          "name": "stderr",
          "output_type": "stream",
          "text": [
            "\n",
            "Clients Training (Round 7):   0%|          | 0/5 [00:00<?, ?it/s]\u001b[A\n",
            "Clients Training (Round 7):  20%|██        | 1/5 [00:04<00:19,  4.94s/it]\u001b[A\n",
            "Clients Training (Round 7):  40%|████      | 2/5 [00:13<00:20,  6.82s/it]\u001b[A\n",
            "Clients Training (Round 7):  60%|██████    | 3/5 [00:19<00:13,  6.78s/it]\u001b[A\n",
            "Clients Training (Round 7):  80%|████████  | 4/5 [00:26<00:06,  6.84s/it]\u001b[A\n",
            "Clients Training (Round 7): 100%|██████████| 5/5 [00:35<00:00,  7.44s/it]\u001b[A\n",
            "Communication Rounds:  47%|████▋     | 7/15 [04:11<04:47, 35.95s/it]"
          ]
        },
        {
          "name": "stdout",
          "output_type": "stream",
          "text": [
            "Round 7 Accuracy: 0.7281\n"
          ]
        },
        {
          "name": "stderr",
          "output_type": "stream",
          "text": [
            "\n",
            "Clients Training (Round 8):   0%|          | 0/5 [00:00<?, ?it/s]\u001b[A\n",
            "Clients Training (Round 8):  20%|██        | 1/5 [00:04<00:19,  4.92s/it]\u001b[A\n",
            "Clients Training (Round 8):  40%|████      | 2/5 [00:13<00:20,  6.81s/it]\u001b[A\n",
            "Clients Training (Round 8):  60%|██████    | 3/5 [00:19<00:13,  6.77s/it]\u001b[A\n",
            "Clients Training (Round 8):  80%|████████  | 4/5 [00:26<00:06,  6.82s/it]\u001b[A\n",
            "Clients Training (Round 8): 100%|██████████| 5/5 [00:35<00:00,  7.42s/it]\u001b[A\n",
            "Communication Rounds:  53%|█████▎    | 8/15 [04:47<04:11, 35.93s/it]"
          ]
        },
        {
          "name": "stdout",
          "output_type": "stream",
          "text": [
            "Round 8 Accuracy: 0.7339\n"
          ]
        },
        {
          "name": "stderr",
          "output_type": "stream",
          "text": [
            "\n",
            "Clients Training (Round 9):   0%|          | 0/5 [00:00<?, ?it/s]\u001b[A\n",
            "Clients Training (Round 9):  20%|██        | 1/5 [00:04<00:19,  4.92s/it]\u001b[A\n",
            "Clients Training (Round 9):  40%|████      | 2/5 [00:13<00:20,  6.81s/it]\u001b[A\n",
            "Clients Training (Round 9):  60%|██████    | 3/5 [00:19<00:13,  6.77s/it]\u001b[A\n",
            "Clients Training (Round 9):  80%|████████  | 4/5 [00:26<00:06,  6.83s/it]\u001b[A\n",
            "Clients Training (Round 9): 100%|██████████| 5/5 [00:35<00:00,  7.43s/it]\u001b[A\n",
            "Communication Rounds:  60%|██████    | 9/15 [05:23<03:35, 35.92s/it]"
          ]
        },
        {
          "name": "stdout",
          "output_type": "stream",
          "text": [
            "Round 9 Accuracy: 0.7384\n"
          ]
        },
        {
          "name": "stderr",
          "output_type": "stream",
          "text": [
            "\n",
            "Clients Training (Round 10):   0%|          | 0/5 [00:00<?, ?it/s]\u001b[A\n",
            "Clients Training (Round 10):  20%|██        | 1/5 [00:04<00:19,  4.91s/it]\u001b[A\n",
            "Clients Training (Round 10):  40%|████      | 2/5 [00:13<00:20,  6.81s/it]\u001b[A\n",
            "Clients Training (Round 10):  60%|██████    | 3/5 [00:19<00:13,  6.78s/it]\u001b[A\n",
            "Clients Training (Round 10):  80%|████████  | 4/5 [00:26<00:06,  6.83s/it]\u001b[A\n",
            "Clients Training (Round 10): 100%|██████████| 5/5 [00:35<00:00,  7.42s/it]\u001b[A\n",
            "Communication Rounds:  67%|██████▋   | 10/15 [05:58<02:59, 35.92s/it]"
          ]
        },
        {
          "name": "stdout",
          "output_type": "stream",
          "text": [
            "Round 10 Accuracy: 0.7368\n"
          ]
        },
        {
          "name": "stderr",
          "output_type": "stream",
          "text": [
            "\n",
            "Clients Training (Round 11):   0%|          | 0/5 [00:00<?, ?it/s]\u001b[A\n",
            "Clients Training (Round 11):  20%|██        | 1/5 [00:04<00:19,  4.92s/it]\u001b[A\n",
            "Clients Training (Round 11):  40%|████      | 2/5 [00:13<00:20,  6.81s/it]\u001b[A\n",
            "Clients Training (Round 11):  60%|██████    | 3/5 [00:19<00:13,  6.78s/it]\u001b[A\n",
            "Clients Training (Round 11):  80%|████████  | 4/5 [00:26<00:06,  6.83s/it]\u001b[A\n",
            "Clients Training (Round 11): 100%|██████████| 5/5 [00:35<00:00,  7.42s/it]\u001b[A\n",
            "Communication Rounds:  73%|███████▎  | 11/15 [06:34<02:23, 35.92s/it]"
          ]
        },
        {
          "name": "stdout",
          "output_type": "stream",
          "text": [
            "Round 11 Accuracy: 0.7363\n"
          ]
        },
        {
          "name": "stderr",
          "output_type": "stream",
          "text": [
            "\n",
            "Clients Training (Round 12):   0%|          | 0/5 [00:00<?, ?it/s]\u001b[A\n",
            "Clients Training (Round 12):  20%|██        | 1/5 [00:04<00:19,  4.91s/it]\u001b[A\n",
            "Clients Training (Round 12):  40%|████      | 2/5 [00:13<00:20,  6.82s/it]\u001b[A\n",
            "Clients Training (Round 12):  60%|██████    | 3/5 [00:19<00:13,  6.78s/it]\u001b[A\n",
            "Clients Training (Round 12):  80%|████████  | 4/5 [00:26<00:06,  6.83s/it]\u001b[A\n",
            "Clients Training (Round 12): 100%|██████████| 5/5 [00:35<00:00,  7.42s/it]\u001b[A\n",
            "Communication Rounds:  80%|████████  | 12/15 [07:10<01:47, 35.91s/it]"
          ]
        },
        {
          "name": "stdout",
          "output_type": "stream",
          "text": [
            "Round 12 Accuracy: 0.7404\n"
          ]
        },
        {
          "name": "stderr",
          "output_type": "stream",
          "text": [
            "\n",
            "Clients Training (Round 13):   0%|          | 0/5 [00:00<?, ?it/s]\u001b[A\n",
            "Clients Training (Round 13):  20%|██        | 1/5 [00:04<00:19,  4.91s/it]\u001b[A\n",
            "Clients Training (Round 13):  40%|████      | 2/5 [00:13<00:20,  6.81s/it]\u001b[A\n",
            "Clients Training (Round 13):  60%|██████    | 3/5 [00:19<00:13,  6.77s/it]\u001b[A\n",
            "Clients Training (Round 13):  80%|████████  | 4/5 [00:26<00:06,  6.82s/it]\u001b[A\n",
            "Clients Training (Round 13): 100%|██████████| 5/5 [00:35<00:00,  7.41s/it]\u001b[A\n",
            "Communication Rounds:  87%|████████▋ | 13/15 [07:46<01:11, 35.90s/it]"
          ]
        },
        {
          "name": "stdout",
          "output_type": "stream",
          "text": [
            "Round 13 Accuracy: 0.7416\n"
          ]
        },
        {
          "name": "stderr",
          "output_type": "stream",
          "text": [
            "\n",
            "Clients Training (Round 14):   0%|          | 0/5 [00:00<?, ?it/s]\u001b[A\n",
            "Clients Training (Round 14):  20%|██        | 1/5 [00:04<00:19,  4.91s/it]\u001b[A\n",
            "Clients Training (Round 14):  40%|████      | 2/5 [00:13<00:20,  6.80s/it]\u001b[A\n",
            "Clients Training (Round 14):  60%|██████    | 3/5 [00:19<00:13,  6.77s/it]\u001b[A\n",
            "Clients Training (Round 14):  80%|████████  | 4/5 [00:26<00:06,  6.83s/it]\u001b[A\n",
            "Clients Training (Round 14): 100%|██████████| 5/5 [00:35<00:00,  7.42s/it]\u001b[A\n",
            "Communication Rounds:  93%|█████████▎| 14/15 [08:22<00:35, 35.90s/it]"
          ]
        },
        {
          "name": "stdout",
          "output_type": "stream",
          "text": [
            "Round 14 Accuracy: 0.7382\n"
          ]
        },
        {
          "name": "stderr",
          "output_type": "stream",
          "text": [
            "\n",
            "Clients Training (Round 15):   0%|          | 0/5 [00:00<?, ?it/s]\u001b[A\n",
            "Clients Training (Round 15):  20%|██        | 1/5 [00:04<00:19,  4.92s/it]\u001b[A\n",
            "Clients Training (Round 15):  40%|████      | 2/5 [00:13<00:20,  6.82s/it]\u001b[A\n",
            "Clients Training (Round 15):  60%|██████    | 3/5 [00:19<00:13,  6.79s/it]\u001b[A\n",
            "Clients Training (Round 15):  80%|████████  | 4/5 [00:26<00:06,  6.85s/it]\u001b[A\n",
            "Clients Training (Round 15): 100%|██████████| 5/5 [00:35<00:00,  7.44s/it]\u001b[A\n",
            "Communication Rounds: 100%|██████████| 15/15 [08:58<00:00, 35.90s/it]"
          ]
        },
        {
          "name": "stdout",
          "output_type": "stream",
          "text": [
            "Round 15 Accuracy: 0.7407\n"
          ]
        },
        {
          "name": "stderr",
          "output_type": "stream",
          "text": [
            "\n"
          ]
        }
      ],
      "source": [
        "def run_scaffold_new(alpha):\n",
        "    round_accuracies_fedavg, round_accuracies_fedavg_adv = 0, 0\n",
        "    train_loaders, test_loaders,_,_ = partition_data(train_images, train_labels, test_images, test_labels, num_clients, alpha, batch_size)\n",
        "\n",
        "    global_model_fedavg_adv = SimpleCNN()\n",
        "    _, round_accuracies_fedavg_adv = fedavg_training_new(\n",
        "                                          global_model_fedavg_adv,\n",
        "                                          train_loaders,\n",
        "                                          num_clients,\n",
        "                                          rounds=rounds,\n",
        "                                          epochs=epochs,\n",
        "                                          lr=lr,\n",
        "                                          test_loaders=test_loaders,\n",
        "                                          align= \"SCAFFOLD\")\n",
        "\n",
        "    # global_model_fedavg_sc_adv = SimpleCNN()\n",
        "    # _, round_accuracies_fedavg_adv = fedavg_training_new(\n",
        "    #                                       global_model_fedavg_sc_adv,\n",
        "    #                                       train_loaders,\n",
        "    #                                       num_clients,\n",
        "    #                                       rounds=rounds,\n",
        "    #                                       epochs=epochs,\n",
        "    #                                       lr=lr,\n",
        "    #                                       test_loaders=test_loaders,\n",
        "    #                                       align= \"Adverserial\")\n",
        "\n",
        "    return round_accuracies_fedavg ,round_accuracies_fedavg_adv\n",
        "\n",
        "alpha = 2\n",
        "round_accuracies_fedavg_new, round_accuracies_fedavg_adv_new = run_scaffold_new(alpha)\n",
        "# accuracies_per_alpha[alpha].append(round_accuracies_fedavg)"
      ]
    },
    {
      "cell_type": "markdown",
      "metadata": {
        "id": "7zBaTx1bfeue"
      },
      "source": [
        "# with KL"
      ]
    },
    {
      "cell_type": "code",
      "execution_count": null,
      "metadata": {
        "id": "2yl4Vtn_AWCC"
      },
      "outputs": [],
      "source": [
        "# Server-side Federated Averaging\n",
        "def fedavg_training(adverserial, global_model, train_loaders, num_clients, rounds, epochs, lr, test_loaders):\n",
        "    round_avg_updates = []\n",
        "    round_accuracies = []\n",
        "    discriminators = {}\n",
        "    global_model = global_model.to(device)\n",
        "\n",
        "    for r in tqdm(range(rounds), desc=\"Communication Rounds\", leave=True):\n",
        "        client_updates = []\n",
        "\n",
        "        # Distribute model and collect client updates\n",
        "        for i in tqdm(range(num_clients), desc=f\"Clients Training (Round {r+1})\", leave=False):\n",
        "\n",
        "            if adverserial:\n",
        "              client_id = i\n",
        "              update = local_train_adversarial_kl(global_model, train_loaders[i], epochs, lr, client_id, discriminators)\n",
        "            else:\n",
        "              update = local_train(global_model, train_loaders[i], epochs, lr)\n",
        "\n",
        "            client_updates.append(update)\n",
        "\n",
        "        # Average updates\n",
        "        avg_update = {name: sum(client_update[name] for client_update in client_updates) / num_clients\n",
        "                      for name in global_model.state_dict().keys()}\n",
        "\n",
        "        # Apply averaged updates to global model\n",
        "        for name, param in global_model.state_dict().items():\n",
        "            param.add_(avg_update[name])  # Update the global model in-place\n",
        "\n",
        "        round_avg_updates.append(avg_update)\n",
        "\n",
        "        # Evaluate the global model\n",
        "        global_model.eval()\n",
        "        correct, total = 0, 0\n",
        "        with torch.no_grad():\n",
        "            for test_loader in test_loaders:\n",
        "                for data, labels in test_loader:\n",
        "                    data, labels = data.to(device), labels.to(device)\n",
        "                    outputs = global_model(data)\n",
        "                    _, predicted = outputs.max(1)\n",
        "                    correct += (predicted == labels).sum().item()\n",
        "                    total += labels.size(0)\n",
        "\n",
        "        accuracy = correct / total\n",
        "        round_accuracies.append(accuracy)\n",
        "        tqdm.write(f\"Round {r+1} Accuracy: {accuracy:.4f}\")\n",
        "\n",
        "    return round_avg_updates, round_accuracies\n",
        "\n",
        "\n",
        "# Client-side local training\n",
        "def local_train(model, train_loader, epochs, lr):\n",
        "    # Copy the global model to avoid modifying it directly\n",
        "    local_model = deepcopy(model)\n",
        "    local_model.load_state_dict(model.state_dict())\n",
        "\n",
        "    local_model = local_model.to(device)\n",
        "    model = model.to(device)\n",
        "\n",
        "    local_model.train()\n",
        "\n",
        "    criterion = nn.CrossEntropyLoss()\n",
        "    optimizer = optim.Adam(local_model.parameters(), lr=lr)\n",
        "\n",
        "    # for epoch in tqdm(range(epochs), desc=\"Local Training\", leave=False):\n",
        "    for epoch in range(epochs):\n",
        "        for data, labels in train_loader:\n",
        "            data, labels  = data.to(device), labels.to(device)\n",
        "            optimizer.zero_grad()\n",
        "            outputs = local_model(data)\n",
        "            loss = criterion(outputs, labels)\n",
        "            loss.backward()\n",
        "            optimizer.step()\n",
        "\n",
        "    # Compute updates (difference between global and local weights)\n",
        "    overall_update = {name: param.data - model.state_dict()[name]\n",
        "                      for name, param in local_model.state_dict().items()}\n",
        "\n",
        "    return overall_update\n",
        "\n",
        "def local_train_adversarial_kl(model, train_loader, epochs, lr, client_id, discriminators):\n",
        "    \"\"\"\n",
        "    Train a local model with adversarial feature matching.\n",
        "\n",
        "    Args:\n",
        "        model (nn.Module): The global model to initialize local training.\n",
        "        train_loader (DataLoader): DataLoader for the client's training data.\n",
        "        epochs (int): Number of training epochs.\n",
        "        lr (float): Learning rate.\n",
        "        client_id (int): Unique identifier for the client.\n",
        "        discriminators (dict): Dictionary of discriminators for each client.\n",
        "\n",
        "    Returns:\n",
        "        dict: Dictionary of model updates (local model - global model).\n",
        "    \"\"\"\n",
        "    # Copy the global model to avoid modifying it directly\n",
        "    local_model = deepcopy(model)\n",
        "    local_model.load_state_dict(model.state_dict())\n",
        "\n",
        "    local_model = local_model.to(device)\n",
        "    model = model.to(device)\n",
        "\n",
        "    local_model.train()\n",
        "    model.eval()  # Ensure the global model remains in evaluation mode\n",
        "\n",
        "    criterion = nn.CrossEntropyLoss()\n",
        "    adv_criterion = nn.KLDivLoss(reduction='batchmean')  # Loss for adversarial feature matching\n",
        "\n",
        "    # Retrieve the discriminator for this client\n",
        "    if client_id not in discriminators:\n",
        "        # Initialize a new discriminator for this client if not already present\n",
        "        discriminators[client_id] = Discriminator().to(device)  # Adjust input_size to match latent dimensions\n",
        "\n",
        "    discriminator = discriminators[client_id]\n",
        "    d_optimizer = optim.Adam(discriminator.parameters(), lr=lr)\n",
        "    g_optimizer = optim.Adam(local_model.parameters(), lr=lr)\n",
        "\n",
        "    for epoch in range(epochs):\n",
        "        for data, labels in train_loader:\n",
        "            data, labels = data.to(device), labels.to(device)\n",
        "\n",
        "            # Extract latents from both models\n",
        "            global_latents = model.get_latents(data).detach()  # Detach to prevent gradient flow\n",
        "            local_latents = local_model.get_latents(data)\n",
        "\n",
        "            # Train Discriminator\n",
        "            discriminator.train()\n",
        "            real_preds = discriminator(global_latents)  # Real latents (from the global model)\n",
        "            fake_preds = discriminator(local_latents.detach())  # Fake latents (from the local model)\n",
        "            real_labels = torch.ones_like(real_preds).to(device)\n",
        "            fake_labels = torch.zeros_like(fake_preds).to(device)\n",
        "\n",
        "            d_loss_real = nn.BCELoss()(real_preds, real_labels)\n",
        "            d_loss_fake = nn.BCELoss()(fake_preds, fake_labels)\n",
        "            d_loss = d_loss_real + d_loss_fake\n",
        "\n",
        "            d_optimizer.zero_grad()\n",
        "            d_loss.backward()\n",
        "            d_optimizer.step()\n",
        "\n",
        "            # Train Local Model (Generator)\n",
        "            discriminator.eval()\n",
        "            fake_preds = discriminator(local_latents)\n",
        "            classification_loss = criterion(local_model(data), labels)\n",
        "            adversarial_loss = -torch.mean(fake_preds)  # Generator tries to fool the discriminator\n",
        "\n",
        "            # local_prob = torch.softmax(local_latents, dim=1)\n",
        "            # global_prob = torch.softmax(global_latents, dim=1)\n",
        "\n",
        "            # feature_matching_loss = adv_criterion(local_prob.log(), global_prob)\n",
        "\n",
        "            total_loss = classification_loss + 0.1*adversarial_loss  # Adjust weights as needed\n",
        "            # print(f\"Classification Loss: {classification_loss.item()}, Adversarial Loss: {adversarial_loss.item()}\")\n",
        "\n",
        "            g_optimizer.zero_grad()\n",
        "            total_loss.backward()\n",
        "            g_optimizer.step()\n",
        "\n",
        "    # Compute updates (difference between global and local weights)\n",
        "    overall_update = {name: param.data - model.state_dict()[name]\n",
        "                      for name, param in local_model.state_dict().items()}\n",
        "\n",
        "    return overall_update\n"
      ]
    },
    {
      "cell_type": "code",
      "execution_count": null,
      "metadata": {
        "id": "BnPW4eUEBNvo"
      },
      "outputs": [],
      "source": [
        "# HyperParameters\n",
        "num_clients = 5\n",
        "batch_size = 128\n",
        "rounds = 15\n",
        "epochs = 5\n",
        "lr = 0.001\n",
        "dirichlet_alphas = [0.5]\n",
        "\n",
        "def run_fedavg(alpha):\n",
        "    round_accuracies_fedavg, round_accuracies_fedavg_adv = 0, 0\n",
        "    train_loaders, test_loaders,_,_ = partition_data(train_images, train_labels, test_images, test_labels, num_clients, alpha, batch_size)\n",
        "\n",
        "    Adverserial = True\n",
        "    global_model_fedavg_adv = SimpleCNN()\n",
        "    _, round_accuracies_fedavg_adv = fedavg_training(Adverserial,\n",
        "                                          global_model_fedavg_adv,\n",
        "                                          train_loaders,\n",
        "                                          num_clients,\n",
        "                                          rounds=rounds,\n",
        "                                          epochs=epochs,\n",
        "                                          lr=lr,\n",
        "                                          test_loaders=test_loaders)\n",
        "\n",
        "    return round_accuracies_fedavg_adv"
      ]
    },
    {
      "cell_type": "code",
      "execution_count": null,
      "metadata": {
        "colab": {
          "base_uri": "https://localhost:8080/"
        },
        "id": "yG7goZgBBZtv",
        "outputId": "3f446813-2de6-437a-9501-4c8d3acc73f4"
      },
      "outputs": [
        {
          "name": "stderr",
          "output_type": "stream",
          "text": [
            "Communication Rounds:   0%|          | 0/15 [00:00<?, ?it/s]\n",
            "Clients Training (Round 1):   0%|          | 0/5 [00:00<?, ?it/s]\u001b[A\n",
            "Clients Training (Round 1):  20%|██        | 1/5 [00:11<00:45, 11.34s/it]\u001b[A\n",
            "Clients Training (Round 1):  40%|████      | 2/5 [00:28<00:44, 14.88s/it]\u001b[A\n",
            "Clients Training (Round 1):  60%|██████    | 3/5 [00:38<00:24, 12.49s/it]\u001b[A\n",
            "Clients Training (Round 1):  80%|████████  | 4/5 [00:57<00:15, 15.18s/it]\u001b[A"
          ]
        }
      ],
      "source": [
        "for alpha in [0.5,2]:\n",
        "    round_accuracies_fedavg_adv = run_fedavg(alpha)\n",
        "\n",
        "    if alpha not in accuracies_per_alpha:\n",
        "        accuracies_per_alpha[alpha] = []\n",
        "    accuracies_per_alpha[alpha].append(round_accuracies_fedavg_adv)"
      ]
    },
    {
      "cell_type": "markdown",
      "metadata": {
        "id": "1vjd6OTxPf1I"
      },
      "source": [
        "# To test Model Implementation// IGNORE"
      ]
    },
    {
      "cell_type": "code",
      "execution_count": null,
      "metadata": {
        "id": "uf0560XcPfA0"
      },
      "outputs": [],
      "source": [
        "import torch\n",
        "import torch.nn.functional as F\n",
        "from torch import optim\n",
        "from torch.utils.data import DataLoader\n",
        "from tqdm import tqdm\n",
        "\n",
        "\n",
        "def train_func(model, train_loader, optimizer, device):\n",
        "    model.train()  # Set the model to training mode\n",
        "    running_loss = 0.0\n",
        "    correct = 0\n",
        "    total = 0\n",
        "\n",
        "    # Iterate over batches\n",
        "    for inputs, labels in tqdm(train_loader, desc=\"Training\", leave=False):\n",
        "        inputs, labels = inputs.to(device), labels.to(device)\n",
        "\n",
        "        optimizer.zero_grad()  # Zero the gradients before each step\n",
        "\n",
        "        # Forward pass\n",
        "        outputs = model(inputs)\n",
        "        loss = F.cross_entropy(outputs, labels)\n",
        "\n",
        "        # Backward pass\n",
        "        loss.backward()\n",
        "        optimizer.step()\n",
        "\n",
        "        running_loss += loss.item()\n",
        "\n",
        "        # Calculate accuracy\n",
        "        _, predicted = torch.max(outputs, 1)\n",
        "        total += labels.size(0)\n",
        "        correct += (predicted == labels).sum().item()\n",
        "\n",
        "    avg_loss = running_loss / len(train_loader)\n",
        "    accuracy = 100 * correct / total\n",
        "\n",
        "    print(f\"Training Loss: {avg_loss:.4f}, Training Accuracy: {accuracy:.2f}%\")\n",
        "    return avg_loss, accuracy\n",
        "\n",
        "\n",
        "def eval_func(model, test_loader, device):\n",
        "    model.eval()  # Set the model to evaluation mode\n",
        "    correct = 0\n",
        "    total = 0\n",
        "    running_loss = 0.0\n",
        "\n",
        "    # Don't compute gradients for evaluation\n",
        "    with torch.no_grad():\n",
        "        for inputs, labels in tqdm(test_loader, desc=\"Evaluating\", leave=False):\n",
        "            inputs, labels = inputs.to(device), labels.to(device)\n",
        "\n",
        "            # Forward pass\n",
        "            outputs = model(inputs)\n",
        "            loss = F.cross_entropy(outputs, labels)\n",
        "\n",
        "            running_loss += loss.item()\n",
        "\n",
        "            # Calculate accuracy\n",
        "            _, predicted = torch.max(outputs, 1)\n",
        "            total += labels.size(0)\n",
        "            correct += (predicted == labels).sum().item()\n",
        "\n",
        "    avg_loss = running_loss / len(test_loader)\n",
        "    accuracy = 100 * correct / total\n",
        "\n",
        "    print(f\"Evaluation Loss: {avg_loss:.4f}, Evaluation Accuracy: {accuracy:.2f}%\")\n",
        "    return avg_loss, accuracy\n",
        "\n",
        "\n",
        "# Example usage:\n",
        "\n",
        "# Assuming you have DataLoader objects `train_loader` and `test_loader` defined\n",
        "# Also assuming you're using GPU or CPU, and the model is SimpleCNN\n",
        "\n",
        "device = torch.device(\"cuda\" if torch.cuda.is_available() else \"cpu\")\n",
        "\n",
        "# Initialize the model, optimizer, etc.\n",
        "model = SimpleCNN().to(device)\n",
        "optimizer = optim.Adam(model.parameters(), lr=0.001)\n",
        "\n",
        "# Train and evaluate for a single epoch as an example\n",
        "num_epochs = 5\n",
        "for epoch in range(num_epochs):\n",
        "    print(f\"Epoch {epoch+1}/{num_epochs}\")\n",
        "\n",
        "    # Train the model\n",
        "    train_func(model, train_loader, optimizer, device)\n",
        "\n",
        "    # Evaluate the model\n",
        "    eval_func(model, test_loader, device)\n"
      ]
    }
  ],
  "metadata": {
    "accelerator": "GPU",
    "colab": {
      "gpuType": "T4",
      "provenance": []
    },
    "kernelspec": {
      "display_name": "Python 3",
      "name": "python3"
    },
    "language_info": {
      "name": "python"
    }
  },
  "nbformat": 4,
  "nbformat_minor": 0
}
